{
  "nbformat": 4,
  "nbformat_minor": 0,
  "metadata": {
    "colab": {
      "name": "shallow_net.ipynb",
      "provenance": [],
      "include_colab_link": true
    },
    "kernelspec": {
      "name": "python3",
      "display_name": "Python 3"
    },
    "accelerator": "TPU"
  },
  "cells": [
    {
      "cell_type": "markdown",
      "metadata": {
        "id": "view-in-github",
        "colab_type": "text"
      },
      "source": [
        "<a href=\"https://colab.research.google.com/github/jonkrohn/tf2/blob/master/notebooks/shallow_net.ipynb\" target=\"_parent\"><img src=\"https://colab.research.google.com/assets/colab-badge.svg\" alt=\"Open In Colab\"/></a>"
      ]
    },
    {
      "cell_type": "markdown",
      "metadata": {
        "id": "iXlSZrKWUrKe",
        "colab_type": "text"
      },
      "source": [
        "# Shallow Neural Network (in TensorFlow 2)\n",
        "\n",
        "A shallow neural network that classifies MNIST digits.\n",
        "\n",
        "_Remember to change your Runtime to GPU or TPU._"
      ]
    },
    {
      "cell_type": "markdown",
      "metadata": {
        "id": "73o58FcYZ0zM",
        "colab_type": "text"
      },
      "source": [
        "#### Load dependencies"
      ]
    },
    {
      "cell_type": "code",
      "metadata": {
        "id": "dENc85VWa7OZ",
        "colab_type": "code",
        "outputId": "8e84324e-0370-488a-8f0d-1a8ff673a1dd",
        "colab": {
          "base_uri": "https://localhost:8080/",
          "height": 173
        }
      },
      "source": [
        "!pip freeze | grep tensorflow"
      ],
      "execution_count": 2,
      "outputs": [
        {
          "output_type": "stream",
          "text": [
            "tensorflow==2.2.0rc2\n",
            "tensorflow-addons==0.8.3\n",
            "tensorflow-datasets==2.1.0\n",
            "tensorflow-estimator==2.2.0rc0\n",
            "tensorflow-gcs-config==2.1.8\n",
            "tensorflow-hub==0.8.0\n",
            "tensorflow-metadata==0.21.1\n",
            "tensorflow-privacy==0.2.2\n",
            "tensorflow-probability==0.9.0\n"
          ],
          "name": "stdout"
        }
      ]
    },
    {
      "cell_type": "code",
      "metadata": {
        "id": "QTF7OhJQbBut",
        "colab_type": "code",
        "colab": {}
      },
      "source": [
        "import tensorflow as tf\n",
        "from tensorflow import keras"
      ],
      "execution_count": 0,
      "outputs": []
    },
    {
      "cell_type": "markdown",
      "metadata": {
        "id": "MxdWaDnMbrw9",
        "colab_type": "text"
      },
      "source": [
        "#### Load data"
      ]
    },
    {
      "cell_type": "code",
      "metadata": {
        "id": "wH9kdTH8bxty",
        "colab_type": "code",
        "outputId": "0666c8d4-bb85-406c-9af5-c07cb45444be",
        "colab": {
          "base_uri": "https://localhost:8080/",
          "height": 52
        }
      },
      "source": [
        "(X_train, y_train), (X_valid, y_valid) = keras.datasets.mnist.load_data()"
      ],
      "execution_count": 4,
      "outputs": [
        {
          "output_type": "stream",
          "text": [
            "Downloading data from https://storage.googleapis.com/tensorflow/tf-keras-datasets/mnist.npz\n",
            "11493376/11490434 [==============================] - 0s 0us/step\n"
          ],
          "name": "stdout"
        }
      ]
    },
    {
      "cell_type": "code",
      "metadata": {
        "id": "uZ2PPkMKcC1S",
        "colab_type": "code",
        "outputId": "4654b08d-d513-420c-80b5-e5c777875a6d",
        "colab": {
          "base_uri": "https://localhost:8080/",
          "height": 34
        }
      },
      "source": [
        "X_train.shape"
      ],
      "execution_count": 5,
      "outputs": [
        {
          "output_type": "execute_result",
          "data": {
            "text/plain": [
              "(60000, 28, 28)"
            ]
          },
          "metadata": {
            "tags": []
          },
          "execution_count": 5
        }
      ]
    },
    {
      "cell_type": "code",
      "metadata": {
        "id": "B_oHXNAgcGn-",
        "colab_type": "code",
        "outputId": "79de300c-876c-4cfd-94ed-2937ded7972d",
        "colab": {
          "base_uri": "https://localhost:8080/",
          "height": 34
        }
      },
      "source": [
        "y_train.shape"
      ],
      "execution_count": 6,
      "outputs": [
        {
          "output_type": "execute_result",
          "data": {
            "text/plain": [
              "(60000,)"
            ]
          },
          "metadata": {
            "tags": []
          },
          "execution_count": 6
        }
      ]
    },
    {
      "cell_type": "code",
      "metadata": {
        "id": "KfHwa61ycLZc",
        "colab_type": "code",
        "outputId": "5694f516-7a98-4e68-be06-a40d315b9313",
        "colab": {
          "base_uri": "https://localhost:8080/",
          "height": 34
        }
      },
      "source": [
        "y_train[0:12]"
      ],
      "execution_count": 7,
      "outputs": [
        {
          "output_type": "execute_result",
          "data": {
            "text/plain": [
              "array([5, 0, 4, 1, 9, 2, 1, 3, 1, 4, 3, 5], dtype=uint8)"
            ]
          },
          "metadata": {
            "tags": []
          },
          "execution_count": 7
        }
      ]
    },
    {
      "cell_type": "code",
      "metadata": {
        "id": "btF3_fWOegzU",
        "colab_type": "code",
        "outputId": "8c2289b8-56c0-44b2-877f-fd9f86718c10",
        "colab": {
          "base_uri": "https://localhost:8080/",
          "height": 327
        }
      },
      "source": [
        "from matplotlib import pyplot as plt\n",
        "plt.figure(figsize=(5,5))\n",
        "for k in range(12):\n",
        "    plt.subplot(3, 4, k+1)\n",
        "    plt.imshow(X_train[k], cmap='Greys')\n",
        "    plt.axis('off')\n",
        "plt.tight_layout()\n",
        "plt.show()"
      ],
      "execution_count": 8,
      "outputs": [
        {
          "output_type": "display_data",
          "data": {
            "image/png": "[encoded data removed]",
            "text/plain": [
              "<Figure size 360x360 with 12 Axes>"
            ]
          },
          "metadata": {
            "tags": []
          }
        }
      ]
    },
    {
      "cell_type": "code",
      "metadata": {
        "id": "pFT_CIJbep24",
        "colab_type": "code",
        "outputId": "73ea0cac-25fe-4e4a-88ec-daaed6dc5aee",
        "colab": {
          "base_uri": "https://localhost:8080/",
          "height": 34
        }
      },
      "source": [
        "X_valid.shape"
      ],
      "execution_count": 0,
      "outputs": [
        {
          "output_type": "execute_result",
          "data": {
            "text/plain": [
              "(10000, 28, 28)"
            ]
          },
          "metadata": {
            "tags": []
          },
          "execution_count": 8
        }
      ]
    },
    {
      "cell_type": "code",
      "metadata": {
        "id": "CgQi3oC4esYo",
        "colab_type": "code",
        "outputId": "0d25901e-0bdf-4a7d-b3d3-7845d5307f66",
        "colab": {
          "base_uri": "https://localhost:8080/",
          "height": 34
        }
      },
      "source": [
        "y_valid.shape"
      ],
      "execution_count": 9,
      "outputs": [
        {
          "output_type": "execute_result",
          "data": {
            "text/plain": [
              "(10000,)"
            ]
          },
          "metadata": {
            "tags": []
          },
          "execution_count": 9
        }
      ]
    },
    {
      "cell_type": "code",
      "metadata": {
        "id": "GwwJ04ZOettt",
        "colab_type": "code",
        "outputId": "2eea3a2d-7ab0-467d-ebf4-e1d3f637ae2d",
        "colab": {
          "base_uri": "https://localhost:8080/",
          "height": 282
        }
      },
      "source": [
        "plt.imshow(X_valid[0], cmap=\"Greys\")"
      ],
      "execution_count": 10,
      "outputs": [
        {
          "output_type": "execute_result",
          "data": {
            "text/plain": [
              "<matplotlib.image.AxesImage at 0x7f01e6762208>"
            ]
          },
          "metadata": {
            "tags": []
          },
          "execution_count": 10
        },
        {
          "output_type": "display_data",
          "data": {
            "image/png": "[encoded data removed]",
            "text/plain": [
              "<Figure size 432x288 with 1 Axes>"
            ]
          },
          "metadata": {
            "tags": []
          }
        }
      ]
    },
    {
      "cell_type": "code",
      "metadata": {
        "id": "yKQKR_AIezMg",
        "colab_type": "code",
        "outputId": "da4b9ef4-21ee-4871-f8a1-63caab521296",
        "colab": {
          "base_uri": "https://localhost:8080/",
          "height": 1000
        }
      },
      "source": [
        "X_valid[0]"
      ],
      "execution_count": 11,
      "outputs": [
        {
          "output_type": "execute_result",
          "data": {
            "text/plain": [
              "array([[  0,   0,   0,   0,   0,   0,   0,   0,   0,   0,   0,   0,   0,\n",
              "          0,   0,   0,   0,   0,   0,   0,   0,   0,   0,   0,   0,   0,\n",
              "          0,   0],\n",
              "       [  0,   0,   0,   0,   0,   0,   0,   0,   0,   0,   0,   0,   0,\n",
              "          0,   0,   0,   0,   0,   0,   0,   0,   0,   0,   0,   0,   0,\n",
              "          0,   0],\n",
              "       [  0,   0,   0,   0,   0,   0,   0,   0,   0,   0,   0,   0,   0,\n",
              "          0,   0,   0,   0,   0,   0,   0,   0,   0,   0,   0,   0,   0,\n",
              "          0,   0],\n",
              "       [  0,   0,   0,   0,   0,   0,   0,   0,   0,   0,   0,   0,   0,\n",
              "          0,   0,   0,   0,   0,   0,   0,   0,   0,   0,   0,   0,   0,\n",
              "          0,   0],\n",
              "       [  0,   0,   0,   0,   0,   0,   0,   0,   0,   0,   0,   0,   0,\n",
              "          0,   0,   0,   0,   0,   0,   0,   0,   0,   0,   0,   0,   0,\n",
              "          0,   0],\n",
              "       [  0,   0,   0,   0,   0,   0,   0,   0,   0,   0,   0,   0,   0,\n",
              "          0,   0,   0,   0,   0,   0,   0,   0,   0,   0,   0,   0,   0,\n",
              "          0,   0],\n",
              "       [  0,   0,   0,   0,   0,   0,   0,   0,   0,   0,   0,   0,   0,\n",
              "          0,   0,   0,   0,   0,   0,   0,   0,   0,   0,   0,   0,   0,\n",
              "          0,   0],\n",
              "       [  0,   0,   0,   0,   0,   0,  84, 185, 159, 151,  60,  36,   0,\n",
              "          0,   0,   0,   0,   0,   0,   0,   0,   0,   0,   0,   0,   0,\n",
              "          0,   0],\n",
              "       [  0,   0,   0,   0,   0,   0, 222, 254, 254, 254, 254, 241, 198,\n",
              "        198, 198, 198, 198, 198, 198, 198, 170,  52,   0,   0,   0,   0,\n",
              "          0,   0],\n",
              "       [  0,   0,   0,   0,   0,   0,  67, 114,  72, 114, 163, 227, 254,\n",
              "        225, 254, 254, 254, 250, 229, 254, 254, 140,   0,   0,   0,   0,\n",
              "          0,   0],\n",
              "       [  0,   0,   0,   0,   0,   0,   0,   0,   0,   0,   0,  17,  66,\n",
              "         14,  67,  67,  67,  59,  21, 236, 254, 106,   0,   0,   0,   0,\n",
              "          0,   0],\n",
              "       [  0,   0,   0,   0,   0,   0,   0,   0,   0,   0,   0,   0,   0,\n",
              "          0,   0,   0,   0,   0,  83, 253, 209,  18,   0,   0,   0,   0,\n",
              "          0,   0],\n",
              "       [  0,   0,   0,   0,   0,   0,   0,   0,   0,   0,   0,   0,   0,\n",
              "          0,   0,   0,   0,  22, 233, 255,  83,   0,   0,   0,   0,   0,\n",
              "          0,   0],\n",
              "       [  0,   0,   0,   0,   0,   0,   0,   0,   0,   0,   0,   0,   0,\n",
              "          0,   0,   0,   0, 129, 254, 238,  44,   0,   0,   0,   0,   0,\n",
              "          0,   0],\n",
              "       [  0,   0,   0,   0,   0,   0,   0,   0,   0,   0,   0,   0,   0,\n",
              "          0,   0,   0,  59, 249, 254,  62,   0,   0,   0,   0,   0,   0,\n",
              "          0,   0],\n",
              "       [  0,   0,   0,   0,   0,   0,   0,   0,   0,   0,   0,   0,   0,\n",
              "          0,   0,   0, 133, 254, 187,   5,   0,   0,   0,   0,   0,   0,\n",
              "          0,   0],\n",
              "       [  0,   0,   0,   0,   0,   0,   0,   0,   0,   0,   0,   0,   0,\n",
              "          0,   0,   9, 205, 248,  58,   0,   0,   0,   0,   0,   0,   0,\n",
              "          0,   0],\n",
              "       [  0,   0,   0,   0,   0,   0,   0,   0,   0,   0,   0,   0,   0,\n",
              "          0,   0, 126, 254, 182,   0,   0,   0,   0,   0,   0,   0,   0,\n",
              "          0,   0],\n",
              "       [  0,   0,   0,   0,   0,   0,   0,   0,   0,   0,   0,   0,   0,\n",
              "          0,  75, 251, 240,  57,   0,   0,   0,   0,   0,   0,   0,   0,\n",
              "          0,   0],\n",
              "       [  0,   0,   0,   0,   0,   0,   0,   0,   0,   0,   0,   0,   0,\n",
              "         19, 221, 254, 166,   0,   0,   0,   0,   0,   0,   0,   0,   0,\n",
              "          0,   0],\n",
              "       [  0,   0,   0,   0,   0,   0,   0,   0,   0,   0,   0,   0,   3,\n",
              "        203, 254, 219,  35,   0,   0,   0,   0,   0,   0,   0,   0,   0,\n",
              "          0,   0],\n",
              "       [  0,   0,   0,   0,   0,   0,   0,   0,   0,   0,   0,   0,  38,\n",
              "        254, 254,  77,   0,   0,   0,   0,   0,   0,   0,   0,   0,   0,\n",
              "          0,   0],\n",
              "       [  0,   0,   0,   0,   0,   0,   0,   0,   0,   0,   0,  31, 224,\n",
              "        254, 115,   1,   0,   0,   0,   0,   0,   0,   0,   0,   0,   0,\n",
              "          0,   0],\n",
              "       [  0,   0,   0,   0,   0,   0,   0,   0,   0,   0,   0, 133, 254,\n",
              "        254,  52,   0,   0,   0,   0,   0,   0,   0,   0,   0,   0,   0,\n",
              "          0,   0],\n",
              "       [  0,   0,   0,   0,   0,   0,   0,   0,   0,   0,  61, 242, 254,\n",
              "        254,  52,   0,   0,   0,   0,   0,   0,   0,   0,   0,   0,   0,\n",
              "          0,   0],\n",
              "       [  0,   0,   0,   0,   0,   0,   0,   0,   0,   0, 121, 254, 254,\n",
              "        219,  40,   0,   0,   0,   0,   0,   0,   0,   0,   0,   0,   0,\n",
              "          0,   0],\n",
              "       [  0,   0,   0,   0,   0,   0,   0,   0,   0,   0, 121, 254, 207,\n",
              "         18,   0,   0,   0,   0,   0,   0,   0,   0,   0,   0,   0,   0,\n",
              "          0,   0],\n",
              "       [  0,   0,   0,   0,   0,   0,   0,   0,   0,   0,   0,   0,   0,\n",
              "          0,   0,   0,   0,   0,   0,   0,   0,   0,   0,   0,   0,   0,\n",
              "          0,   0]], dtype=uint8)"
            ]
          },
          "metadata": {
            "tags": []
          },
          "execution_count": 11
        }
      ]
    },
    {
      "cell_type": "code",
      "metadata": {
        "id": "RZ6J0L1fe1m4",
        "colab_type": "code",
        "outputId": "6fe95543-5948-4632-9472-e088df0e1108",
        "colab": {
          "base_uri": "https://localhost:8080/",
          "height": 34
        }
      },
      "source": [
        "y_valid[0]"
      ],
      "execution_count": 12,
      "outputs": [
        {
          "output_type": "execute_result",
          "data": {
            "text/plain": [
              "7"
            ]
          },
          "metadata": {
            "tags": []
          },
          "execution_count": 12
        }
      ]
    },
    {
      "cell_type": "markdown",
      "metadata": {
        "id": "jyMuVQvibzRu",
        "colab_type": "text"
      },
      "source": [
        "#### Preprocess data"
      ]
    },
    {
      "cell_type": "code",
      "metadata": {
        "id": "Hw0FtUpYb4Ik",
        "colab_type": "code",
        "colab": {}
      },
      "source": [
        "X_train = X_train.reshape(60000, 784).astype('float32')\n",
        "X_valid = X_valid.reshape(10000, 784).astype('float32')"
      ],
      "execution_count": 0,
      "outputs": []
    },
    {
      "cell_type": "code",
      "metadata": {
        "id": "EkyGxyRIb5md",
        "colab_type": "code",
        "colab": {}
      },
      "source": [
        "X_train /= 255\n",
        "X_valid /= 255"
      ],
      "execution_count": 0,
      "outputs": []
    },
    {
      "cell_type": "code",
      "metadata": {
        "id": "kxRjPNpNe-Gm",
        "colab_type": "code",
        "outputId": "b4e4cb26-ca8f-4705-bdf2-010f158b6279",
        "colab": {
          "base_uri": "https://localhost:8080/",
          "height": 1000
        }
      },
      "source": [
        "X_valid[0]"
      ],
      "execution_count": 15,
      "outputs": [
        {
          "output_type": "execute_result",
          "data": {
            "text/plain": [
              "array([0.        , 0.        , 0.        , 0.        , 0.        ,\n",
              "       0.        , 0.        , 0.        , 0.        , 0.        ,\n",
              "       0.        , 0.        , 0.        , 0.        , 0.        ,\n",
              "       0.        , 0.        , 0.        , 0.        , 0.        ,\n",
              "       0.        , 0.        , 0.        , 0.        , 0.        ,\n",
              "       0.        , 0.        , 0.        , 0.        , 0.        ,\n",
              "       0.        , 0.        , 0.        , 0.        , 0.        ,\n",
              "       0.        , 0.        , 0.        , 0.        , 0.        ,\n",
              "       0.        , 0.        , 0.        , 0.        , 0.        ,\n",
              "       0.        , 0.        , 0.        , 0.        , 0.        ,\n",
              "       0.        , 0.        , 0.        , 0.        , 0.        ,\n",
              "       0.        , 0.        , 0.        , 0.        , 0.        ,\n",
              "       0.        , 0.        , 0.        , 0.        , 0.        ,\n",
              "       0.        , 0.        , 0.        , 0.        , 0.        ,\n",
              "       0.        , 0.        , 0.        , 0.        , 0.        ,\n",
              "       0.        , 0.        , 0.        , 0.        , 0.        ,\n",
              "       0.        , 0.        , 0.        , 0.        , 0.        ,\n",
              "       0.        , 0.        , 0.        , 0.        , 0.        ,\n",
              "       0.        , 0.        , 0.        , 0.        , 0.        ,\n",
              "       0.        , 0.        , 0.        , 0.        , 0.        ,\n",
              "       0.        , 0.        , 0.        , 0.        , 0.        ,\n",
              "       0.        , 0.        , 0.        , 0.        , 0.        ,\n",
              "       0.        , 0.        , 0.        , 0.        , 0.        ,\n",
              "       0.        , 0.        , 0.        , 0.        , 0.        ,\n",
              "       0.        , 0.        , 0.        , 0.        , 0.        ,\n",
              "       0.        , 0.        , 0.        , 0.        , 0.        ,\n",
              "       0.        , 0.        , 0.        , 0.        , 0.        ,\n",
              "       0.        , 0.        , 0.        , 0.        , 0.        ,\n",
              "       0.        , 0.        , 0.        , 0.        , 0.        ,\n",
              "       0.        , 0.        , 0.        , 0.        , 0.        ,\n",
              "       0.        , 0.        , 0.        , 0.        , 0.        ,\n",
              "       0.        , 0.        , 0.        , 0.        , 0.        ,\n",
              "       0.        , 0.        , 0.        , 0.        , 0.        ,\n",
              "       0.        , 0.        , 0.        , 0.        , 0.        ,\n",
              "       0.        , 0.        , 0.        , 0.        , 0.        ,\n",
              "       0.        , 0.        , 0.        , 0.        , 0.        ,\n",
              "       0.        , 0.        , 0.        , 0.        , 0.        ,\n",
              "       0.        , 0.        , 0.        , 0.        , 0.        ,\n",
              "       0.        , 0.        , 0.        , 0.        , 0.        ,\n",
              "       0.        , 0.        , 0.        , 0.        , 0.        ,\n",
              "       0.        , 0.        , 0.32941177, 0.7254902 , 0.62352943,\n",
              "       0.5921569 , 0.23529412, 0.14117648, 0.        , 0.        ,\n",
              "       0.        , 0.        , 0.        , 0.        , 0.        ,\n",
              "       0.        , 0.        , 0.        , 0.        , 0.        ,\n",
              "       0.        , 0.        , 0.        , 0.        , 0.        ,\n",
              "       0.        , 0.        , 0.        , 0.        , 0.        ,\n",
              "       0.87058824, 0.99607843, 0.99607843, 0.99607843, 0.99607843,\n",
              "       0.94509804, 0.7764706 , 0.7764706 , 0.7764706 , 0.7764706 ,\n",
              "       0.7764706 , 0.7764706 , 0.7764706 , 0.7764706 , 0.6666667 ,\n",
              "       0.20392157, 0.        , 0.        , 0.        , 0.        ,\n",
              "       0.        , 0.        , 0.        , 0.        , 0.        ,\n",
              "       0.        , 0.        , 0.        , 0.2627451 , 0.44705883,\n",
              "       0.28235295, 0.44705883, 0.6392157 , 0.8901961 , 0.99607843,\n",
              "       0.88235295, 0.99607843, 0.99607843, 0.99607843, 0.98039216,\n",
              "       0.8980392 , 0.99607843, 0.99607843, 0.54901963, 0.        ,\n",
              "       0.        , 0.        , 0.        , 0.        , 0.        ,\n",
              "       0.        , 0.        , 0.        , 0.        , 0.        ,\n",
              "       0.        , 0.        , 0.        , 0.        , 0.        ,\n",
              "       0.        , 0.06666667, 0.25882354, 0.05490196, 0.2627451 ,\n",
              "       0.2627451 , 0.2627451 , 0.23137255, 0.08235294, 0.9254902 ,\n",
              "       0.99607843, 0.41568628, 0.        , 0.        , 0.        ,\n",
              "       0.        , 0.        , 0.        , 0.        , 0.        ,\n",
              "       0.        , 0.        , 0.        , 0.        , 0.        ,\n",
              "       0.        , 0.        , 0.        , 0.        , 0.        ,\n",
              "       0.        , 0.        , 0.        , 0.        , 0.        ,\n",
              "       0.        , 0.3254902 , 0.99215686, 0.81960785, 0.07058824,\n",
              "       0.        , 0.        , 0.        , 0.        , 0.        ,\n",
              "       0.        , 0.        , 0.        , 0.        , 0.        ,\n",
              "       0.        , 0.        , 0.        , 0.        , 0.        ,\n",
              "       0.        , 0.        , 0.        , 0.        , 0.        ,\n",
              "       0.        , 0.        , 0.        , 0.08627451, 0.9137255 ,\n",
              "       1.        , 0.3254902 , 0.        , 0.        , 0.        ,\n",
              "       0.        , 0.        , 0.        , 0.        , 0.        ,\n",
              "       0.        , 0.        , 0.        , 0.        , 0.        ,\n",
              "       0.        , 0.        , 0.        , 0.        , 0.        ,\n",
              "       0.        , 0.        , 0.        , 0.        , 0.        ,\n",
              "       0.        , 0.5058824 , 0.99607843, 0.93333334, 0.17254902,\n",
              "       0.        , 0.        , 0.        , 0.        , 0.        ,\n",
              "       0.        , 0.        , 0.        , 0.        , 0.        ,\n",
              "       0.        , 0.        , 0.        , 0.        , 0.        ,\n",
              "       0.        , 0.        , 0.        , 0.        , 0.        ,\n",
              "       0.        , 0.        , 0.        , 0.23137255, 0.9764706 ,\n",
              "       0.99607843, 0.24313726, 0.        , 0.        , 0.        ,\n",
              "       0.        , 0.        , 0.        , 0.        , 0.        ,\n",
              "       0.        , 0.        , 0.        , 0.        , 0.        ,\n",
              "       0.        , 0.        , 0.        , 0.        , 0.        ,\n",
              "       0.        , 0.        , 0.        , 0.        , 0.        ,\n",
              "       0.        , 0.52156866, 0.99607843, 0.73333335, 0.01960784,\n",
              "       0.        , 0.        , 0.        , 0.        , 0.        ,\n",
              "       0.        , 0.        , 0.        , 0.        , 0.        ,\n",
              "       0.        , 0.        , 0.        , 0.        , 0.        ,\n",
              "       0.        , 0.        , 0.        , 0.        , 0.        ,\n",
              "       0.        , 0.        , 0.        , 0.03529412, 0.8039216 ,\n",
              "       0.972549  , 0.22745098, 0.        , 0.        , 0.        ,\n",
              "       0.        , 0.        , 0.        , 0.        , 0.        ,\n",
              "       0.        , 0.        , 0.        , 0.        , 0.        ,\n",
              "       0.        , 0.        , 0.        , 0.        , 0.        ,\n",
              "       0.        , 0.        , 0.        , 0.        , 0.        ,\n",
              "       0.        , 0.49411765, 0.99607843, 0.7137255 , 0.        ,\n",
              "       0.        , 0.        , 0.        , 0.        , 0.        ,\n",
              "       0.        , 0.        , 0.        , 0.        , 0.        ,\n",
              "       0.        , 0.        , 0.        , 0.        , 0.        ,\n",
              "       0.        , 0.        , 0.        , 0.        , 0.        ,\n",
              "       0.        , 0.        , 0.        , 0.29411766, 0.9843137 ,\n",
              "       0.9411765 , 0.22352941, 0.        , 0.        , 0.        ,\n",
              "       0.        , 0.        , 0.        , 0.        , 0.        ,\n",
              "       0.        , 0.        , 0.        , 0.        , 0.        ,\n",
              "       0.        , 0.        , 0.        , 0.        , 0.        ,\n",
              "       0.        , 0.        , 0.        , 0.        , 0.        ,\n",
              "       0.07450981, 0.8666667 , 0.99607843, 0.6509804 , 0.        ,\n",
              "       0.        , 0.        , 0.        , 0.        , 0.        ,\n",
              "       0.        , 0.        , 0.        , 0.        , 0.        ,\n",
              "       0.        , 0.        , 0.        , 0.        , 0.        ,\n",
              "       0.        , 0.        , 0.        , 0.        , 0.        ,\n",
              "       0.        , 0.        , 0.01176471, 0.79607844, 0.99607843,\n",
              "       0.85882354, 0.13725491, 0.        , 0.        , 0.        ,\n",
              "       0.        , 0.        , 0.        , 0.        , 0.        ,\n",
              "       0.        , 0.        , 0.        , 0.        , 0.        ,\n",
              "       0.        , 0.        , 0.        , 0.        , 0.        ,\n",
              "       0.        , 0.        , 0.        , 0.        , 0.        ,\n",
              "       0.14901961, 0.99607843, 0.99607843, 0.3019608 , 0.        ,\n",
              "       0.        , 0.        , 0.        , 0.        , 0.        ,\n",
              "       0.        , 0.        , 0.        , 0.        , 0.        ,\n",
              "       0.        , 0.        , 0.        , 0.        , 0.        ,\n",
              "       0.        , 0.        , 0.        , 0.        , 0.        ,\n",
              "       0.        , 0.        , 0.12156863, 0.8784314 , 0.99607843,\n",
              "       0.4509804 , 0.00392157, 0.        , 0.        , 0.        ,\n",
              "       0.        , 0.        , 0.        , 0.        , 0.        ,\n",
              "       0.        , 0.        , 0.        , 0.        , 0.        ,\n",
              "       0.        , 0.        , 0.        , 0.        , 0.        ,\n",
              "       0.        , 0.        , 0.        , 0.        , 0.        ,\n",
              "       0.52156866, 0.99607843, 0.99607843, 0.20392157, 0.        ,\n",
              "       0.        , 0.        , 0.        , 0.        , 0.        ,\n",
              "       0.        , 0.        , 0.        , 0.        , 0.        ,\n",
              "       0.        , 0.        , 0.        , 0.        , 0.        ,\n",
              "       0.        , 0.        , 0.        , 0.        , 0.        ,\n",
              "       0.        , 0.        , 0.23921569, 0.9490196 , 0.99607843,\n",
              "       0.99607843, 0.20392157, 0.        , 0.        , 0.        ,\n",
              "       0.        , 0.        , 0.        , 0.        , 0.        ,\n",
              "       0.        , 0.        , 0.        , 0.        , 0.        ,\n",
              "       0.        , 0.        , 0.        , 0.        , 0.        ,\n",
              "       0.        , 0.        , 0.        , 0.        , 0.        ,\n",
              "       0.4745098 , 0.99607843, 0.99607843, 0.85882354, 0.15686275,\n",
              "       0.        , 0.        , 0.        , 0.        , 0.        ,\n",
              "       0.        , 0.        , 0.        , 0.        , 0.        ,\n",
              "       0.        , 0.        , 0.        , 0.        , 0.        ,\n",
              "       0.        , 0.        , 0.        , 0.        , 0.        ,\n",
              "       0.        , 0.        , 0.        , 0.4745098 , 0.99607843,\n",
              "       0.8117647 , 0.07058824, 0.        , 0.        , 0.        ,\n",
              "       0.        , 0.        , 0.        , 0.        , 0.        ,\n",
              "       0.        , 0.        , 0.        , 0.        , 0.        ,\n",
              "       0.        , 0.        , 0.        , 0.        , 0.        ,\n",
              "       0.        , 0.        , 0.        , 0.        , 0.        ,\n",
              "       0.        , 0.        , 0.        , 0.        , 0.        ,\n",
              "       0.        , 0.        , 0.        , 0.        , 0.        ,\n",
              "       0.        , 0.        , 0.        , 0.        , 0.        ,\n",
              "       0.        , 0.        , 0.        , 0.        ], dtype=float32)"
            ]
          },
          "metadata": {
            "tags": []
          },
          "execution_count": 15
        }
      ]
    },
    {
      "cell_type": "code",
      "metadata": {
        "id": "M7rJ2C_ob6e9",
        "colab_type": "code",
        "colab": {}
      },
      "source": [
        "n_classes = 10\n",
        "y_train = keras.utils.to_categorical(y_train, n_classes)\n",
        "y_valid = keras.utils.to_categorical(y_valid, n_classes)"
      ],
      "execution_count": 0,
      "outputs": []
    },
    {
      "cell_type": "code",
      "metadata": {
        "id": "20zL0e_ZfDxo",
        "colab_type": "code",
        "outputId": "dda548fe-0a84-493f-de3a-9040b00e6bff",
        "colab": {
          "base_uri": "https://localhost:8080/",
          "height": 34
        }
      },
      "source": [
        "y_valid[0]"
      ],
      "execution_count": 17,
      "outputs": [
        {
          "output_type": "execute_result",
          "data": {
            "text/plain": [
              "array([0., 0., 0., 0., 0., 0., 0., 1., 0., 0.], dtype=float32)"
            ]
          },
          "metadata": {
            "tags": []
          },
          "execution_count": 17
        }
      ]
    },
    {
      "cell_type": "markdown",
      "metadata": {
        "id": "FrDbdiVqb7eN",
        "colab_type": "text"
      },
      "source": [
        "#### Design neural network architecture"
      ]
    },
    {
      "cell_type": "code",
      "metadata": {
        "id": "pTgQAJCFb-Tm",
        "colab_type": "code",
        "colab": {}
      },
      "source": [
        "model = keras.models.Sequential([\n",
        "    \n",
        "    keras.layers.Dense(64, activation='sigmoid', input_shape=(784,)),\n",
        "    keras.layers.Dense(10, activation='softmax')\n",
        "    \n",
        "])"
      ],
      "execution_count": 0,
      "outputs": []
    },
    {
      "cell_type": "code",
      "metadata": {
        "id": "EzSU6ALogRJv",
        "colab_type": "code",
        "outputId": "701792c1-f7f5-4ef6-d934-e543dfaba942",
        "colab": {
          "base_uri": "https://localhost:8080/",
          "height": 225
        }
      },
      "source": [
        "model.summary()"
      ],
      "execution_count": 0,
      "outputs": [
        {
          "output_type": "stream",
          "text": [
            "Model: \"sequential\"\n",
            "_________________________________________________________________\n",
            "Layer (type)                 Output Shape              Param #   \n",
            "=================================================================\n",
            "dense (Dense)                (None, 64)                50240     \n",
            "_________________________________________________________________\n",
            "dense_1 (Dense)              (None, 10)                650       \n",
            "=================================================================\n",
            "Total params: 50,890\n",
            "Trainable params: 50,890\n",
            "Non-trainable params: 0\n",
            "_________________________________________________________________\n"
          ],
          "name": "stdout"
        }
      ]
    },
    {
      "cell_type": "code",
      "metadata": {
        "id": "ZmKYRyaTgTTx",
        "colab_type": "code",
        "outputId": "e38679c6-49b1-45aa-e52c-b394f107f9e5",
        "colab": {
          "base_uri": "https://localhost:8080/",
          "height": 34
        }
      },
      "source": [
        "64*784"
      ],
      "execution_count": 19,
      "outputs": [
        {
          "output_type": "execute_result",
          "data": {
            "text/plain": [
              "50176"
            ]
          },
          "metadata": {
            "tags": []
          },
          "execution_count": 19
        }
      ]
    },
    {
      "cell_type": "code",
      "metadata": {
        "id": "yLgX7mIMgXVR",
        "colab_type": "code",
        "outputId": "e58c6fd7-7161-478f-a08d-8c63fab687de",
        "colab": {
          "base_uri": "https://localhost:8080/",
          "height": 34
        }
      },
      "source": [
        "(64*784)+64"
      ],
      "execution_count": 20,
      "outputs": [
        {
          "output_type": "execute_result",
          "data": {
            "text/plain": [
              "50240"
            ]
          },
          "metadata": {
            "tags": []
          },
          "execution_count": 20
        }
      ]
    },
    {
      "cell_type": "code",
      "metadata": {
        "id": "Ep92qZmsgarR",
        "colab_type": "code",
        "outputId": "736b13b5-0e3e-4923-d97f-75d20b690ce0",
        "colab": {
          "base_uri": "https://localhost:8080/",
          "height": 34
        }
      },
      "source": [
        "(10*64)+10"
      ],
      "execution_count": 21,
      "outputs": [
        {
          "output_type": "execute_result",
          "data": {
            "text/plain": [
              "650"
            ]
          },
          "metadata": {
            "tags": []
          },
          "execution_count": 21
        }
      ]
    },
    {
      "cell_type": "markdown",
      "metadata": {
        "id": "-W1ljeaGgdpA",
        "colab_type": "text"
      },
      "source": [
        "#### Configure model"
      ]
    },
    {
      "cell_type": "code",
      "metadata": {
        "id": "2YI73ZvYgheG",
        "colab_type": "code",
        "colab": {}
      },
      "source": [
        "model.compile(loss='mean_squared_error', optimizer='sgd', metrics=['accuracy'])"
      ],
      "execution_count": 0,
      "outputs": []
    },
    {
      "cell_type": "markdown",
      "metadata": {
        "id": "NV9-heXwgqO2",
        "colab_type": "text"
      },
      "source": [
        "#### Train!"
      ]
    },
    {
      "cell_type": "code",
      "metadata": {
        "id": "WtgS2Xhmgx4X",
        "colab_type": "code",
        "outputId": "387d6dae-37a1-4b2f-d6a1-53446f5d4231",
        "colab": {
          "base_uri": "https://localhost:8080/",
          "height": 1000
        }
      },
      "source": [
        "model.fit(X_train, y_train, batch_size=128, epochs=200, verbose=1, validation_data=(X_valid, y_valid))"
      ],
      "execution_count": 23,
      "outputs": [
        {
          "output_type": "stream",
          "text": [
            "Epoch 1/200\n",
            "469/469 [==============================] - 1s 3ms/step - loss: 0.0932 - accuracy: 0.0992 - val_loss: 0.0916 - val_accuracy: 0.1009\n",
            "Epoch 2/200\n",
            "469/469 [==============================] - 1s 3ms/step - loss: 0.0910 - accuracy: 0.0993 - val_loss: 0.0906 - val_accuracy: 0.1005\n",
            "Epoch 3/200\n",
            "469/469 [==============================] - 1s 2ms/step - loss: 0.0903 - accuracy: 0.1036 - val_loss: 0.0900 - val_accuracy: 0.1181\n",
            "Epoch 4/200\n",
            "469/469 [==============================] - 1s 2ms/step - loss: 0.0898 - accuracy: 0.1253 - val_loss: 0.0895 - val_accuracy: 0.1499\n",
            "Epoch 5/200\n",
            "469/469 [==============================] - 1s 2ms/step - loss: 0.0894 - accuracy: 0.1651 - val_loss: 0.0892 - val_accuracy: 0.1931\n",
            "Epoch 6/200\n",
            "469/469 [==============================] - 1s 2ms/step - loss: 0.0890 - accuracy: 0.2072 - val_loss: 0.0888 - val_accuracy: 0.2276\n",
            "Epoch 7/200\n",
            "469/469 [==============================] - 1s 3ms/step - loss: 0.0887 - accuracy: 0.2410 - val_loss: 0.0885 - val_accuracy: 0.2572\n",
            "Epoch 8/200\n",
            "469/469 [==============================] - 1s 2ms/step - loss: 0.0884 - accuracy: 0.2652 - val_loss: 0.0882 - val_accuracy: 0.2791\n",
            "Epoch 9/200\n",
            "469/469 [==============================] - 1s 2ms/step - loss: 0.0881 - accuracy: 0.2833 - val_loss: 0.0879 - val_accuracy: 0.2958\n",
            "Epoch 10/200\n",
            "469/469 [==============================] - 1s 3ms/step - loss: 0.0878 - accuracy: 0.3007 - val_loss: 0.0876 - val_accuracy: 0.3104\n",
            "Epoch 11/200\n",
            "469/469 [==============================] - 1s 3ms/step - loss: 0.0875 - accuracy: 0.3165 - val_loss: 0.0873 - val_accuracy: 0.3297\n",
            "Epoch 12/200\n",
            "469/469 [==============================] - 1s 2ms/step - loss: 0.0872 - accuracy: 0.3348 - val_loss: 0.0870 - val_accuracy: 0.3507\n",
            "Epoch 13/200\n",
            "469/469 [==============================] - 1s 3ms/step - loss: 0.0869 - accuracy: 0.3561 - val_loss: 0.0866 - val_accuracy: 0.3707\n",
            "Epoch 14/200\n",
            "469/469 [==============================] - 1s 2ms/step - loss: 0.0866 - accuracy: 0.3763 - val_loss: 0.0863 - val_accuracy: 0.3910\n",
            "Epoch 15/200\n",
            "469/469 [==============================] - 1s 2ms/step - loss: 0.0863 - accuracy: 0.3963 - val_loss: 0.0860 - val_accuracy: 0.4105\n",
            "Epoch 16/200\n",
            "469/469 [==============================] - 1s 2ms/step - loss: 0.0860 - accuracy: 0.4135 - val_loss: 0.0857 - val_accuracy: 0.4287\n",
            "Epoch 17/200\n",
            "469/469 [==============================] - 1s 2ms/step - loss: 0.0856 - accuracy: 0.4288 - val_loss: 0.0854 - val_accuracy: 0.4441\n",
            "Epoch 18/200\n",
            "469/469 [==============================] - 1s 2ms/step - loss: 0.0853 - accuracy: 0.4423 - val_loss: 0.0850 - val_accuracy: 0.4555\n",
            "Epoch 19/200\n",
            "469/469 [==============================] - 1s 3ms/step - loss: 0.0850 - accuracy: 0.4521 - val_loss: 0.0847 - val_accuracy: 0.4649\n",
            "Epoch 20/200\n",
            "469/469 [==============================] - 1s 2ms/step - loss: 0.0846 - accuracy: 0.4608 - val_loss: 0.0843 - val_accuracy: 0.4730\n",
            "Epoch 21/200\n",
            "469/469 [==============================] - 1s 3ms/step - loss: 0.0843 - accuracy: 0.4675 - val_loss: 0.0840 - val_accuracy: 0.4787\n",
            "Epoch 22/200\n",
            "469/469 [==============================] - 1s 2ms/step - loss: 0.0839 - accuracy: 0.4729 - val_loss: 0.0836 - val_accuracy: 0.4825\n",
            "Epoch 23/200\n",
            "469/469 [==============================] - 1s 3ms/step - loss: 0.0836 - accuracy: 0.4794 - val_loss: 0.0832 - val_accuracy: 0.4875\n",
            "Epoch 24/200\n",
            "469/469 [==============================] - 1s 2ms/step - loss: 0.0832 - accuracy: 0.4824 - val_loss: 0.0828 - val_accuracy: 0.4899\n",
            "Epoch 25/200\n",
            "469/469 [==============================] - 1s 3ms/step - loss: 0.0828 - accuracy: 0.4851 - val_loss: 0.0824 - val_accuracy: 0.4942\n",
            "Epoch 26/200\n",
            "469/469 [==============================] - 1s 3ms/step - loss: 0.0824 - accuracy: 0.4876 - val_loss: 0.0820 - val_accuracy: 0.4962\n",
            "Epoch 27/200\n",
            "469/469 [==============================] - 1s 3ms/step - loss: 0.0820 - accuracy: 0.4906 - val_loss: 0.0816 - val_accuracy: 0.4988\n",
            "Epoch 28/200\n",
            "469/469 [==============================] - 1s 2ms/step - loss: 0.0816 - accuracy: 0.4933 - val_loss: 0.0812 - val_accuracy: 0.5008\n",
            "Epoch 29/200\n",
            "469/469 [==============================] - 1s 3ms/step - loss: 0.0812 - accuracy: 0.4935 - val_loss: 0.0807 - val_accuracy: 0.5038\n",
            "Epoch 30/200\n",
            "469/469 [==============================] - 1s 3ms/step - loss: 0.0807 - accuracy: 0.4962 - val_loss: 0.0803 - val_accuracy: 0.5071\n",
            "Epoch 31/200\n",
            "469/469 [==============================] - 1s 3ms/step - loss: 0.0803 - accuracy: 0.4972 - val_loss: 0.0798 - val_accuracy: 0.5100\n",
            "Epoch 32/200\n",
            "469/469 [==============================] - 1s 3ms/step - loss: 0.0798 - accuracy: 0.5007 - val_loss: 0.0794 - val_accuracy: 0.5122\n",
            "Epoch 33/200\n",
            "469/469 [==============================] - 1s 3ms/step - loss: 0.0794 - accuracy: 0.5027 - val_loss: 0.0789 - val_accuracy: 0.5143\n",
            "Epoch 34/200\n",
            "469/469 [==============================] - 1s 3ms/step - loss: 0.0789 - accuracy: 0.5063 - val_loss: 0.0784 - val_accuracy: 0.5170\n",
            "Epoch 35/200\n",
            "469/469 [==============================] - 1s 3ms/step - loss: 0.0784 - accuracy: 0.5103 - val_loss: 0.0779 - val_accuracy: 0.5206\n",
            "Epoch 36/200\n",
            "469/469 [==============================] - 1s 3ms/step - loss: 0.0780 - accuracy: 0.5117 - val_loss: 0.0774 - val_accuracy: 0.5248\n",
            "Epoch 37/200\n",
            "469/469 [==============================] - 1s 3ms/step - loss: 0.0775 - accuracy: 0.5171 - val_loss: 0.0769 - val_accuracy: 0.5283\n",
            "Epoch 38/200\n",
            "469/469 [==============================] - 1s 3ms/step - loss: 0.0770 - accuracy: 0.5213 - val_loss: 0.0764 - val_accuracy: 0.5324\n",
            "Epoch 39/200\n",
            "469/469 [==============================] - 1s 3ms/step - loss: 0.0765 - accuracy: 0.5256 - val_loss: 0.0759 - val_accuracy: 0.5361\n",
            "Epoch 40/200\n",
            "469/469 [==============================] - 1s 3ms/step - loss: 0.0760 - accuracy: 0.5298 - val_loss: 0.0754 - val_accuracy: 0.5394\n",
            "Epoch 41/200\n",
            "469/469 [==============================] - 1s 3ms/step - loss: 0.0754 - accuracy: 0.5333 - val_loss: 0.0748 - val_accuracy: 0.5431\n",
            "Epoch 42/200\n",
            "469/469 [==============================] - 1s 2ms/step - loss: 0.0749 - accuracy: 0.5379 - val_loss: 0.0743 - val_accuracy: 0.5489\n",
            "Epoch 43/200\n",
            "469/469 [==============================] - 1s 3ms/step - loss: 0.0744 - accuracy: 0.5428 - val_loss: 0.0738 - val_accuracy: 0.5527\n",
            "Epoch 44/200\n",
            "469/469 [==============================] - 1s 3ms/step - loss: 0.0739 - accuracy: 0.5480 - val_loss: 0.0732 - val_accuracy: 0.5592\n",
            "Epoch 45/200\n",
            "469/469 [==============================] - 1s 3ms/step - loss: 0.0733 - accuracy: 0.5524 - val_loss: 0.0727 - val_accuracy: 0.5630\n",
            "Epoch 46/200\n",
            "469/469 [==============================] - 1s 2ms/step - loss: 0.0728 - accuracy: 0.5578 - val_loss: 0.0722 - val_accuracy: 0.5682\n",
            "Epoch 47/200\n",
            "469/469 [==============================] - 1s 3ms/step - loss: 0.0723 - accuracy: 0.5635 - val_loss: 0.0716 - val_accuracy: 0.5742\n",
            "Epoch 48/200\n",
            "469/469 [==============================] - 1s 2ms/step - loss: 0.0717 - accuracy: 0.5678 - val_loss: 0.0711 - val_accuracy: 0.5803\n",
            "Epoch 49/200\n",
            "469/469 [==============================] - 1s 3ms/step - loss: 0.0712 - accuracy: 0.5736 - val_loss: 0.0705 - val_accuracy: 0.5848\n",
            "Epoch 50/200\n",
            "469/469 [==============================] - 1s 3ms/step - loss: 0.0707 - accuracy: 0.5792 - val_loss: 0.0700 - val_accuracy: 0.5905\n",
            "Epoch 51/200\n",
            "469/469 [==============================] - 1s 3ms/step - loss: 0.0702 - accuracy: 0.5846 - val_loss: 0.0694 - val_accuracy: 0.5942\n",
            "Epoch 52/200\n",
            "469/469 [==============================] - 1s 2ms/step - loss: 0.0696 - accuracy: 0.5903 - val_loss: 0.0689 - val_accuracy: 0.5991\n",
            "Epoch 53/200\n",
            "469/469 [==============================] - 1s 3ms/step - loss: 0.0691 - accuracy: 0.5959 - val_loss: 0.0684 - val_accuracy: 0.6052\n",
            "Epoch 54/200\n",
            "469/469 [==============================] - 1s 2ms/step - loss: 0.0686 - accuracy: 0.6006 - val_loss: 0.0678 - val_accuracy: 0.6111\n",
            "Epoch 55/200\n",
            "469/469 [==============================] - 1s 2ms/step - loss: 0.0680 - accuracy: 0.6063 - val_loss: 0.0673 - val_accuracy: 0.6165\n",
            "Epoch 56/200\n",
            "469/469 [==============================] - 1s 2ms/step - loss: 0.0675 - accuracy: 0.6112 - val_loss: 0.0667 - val_accuracy: 0.6211\n",
            "Epoch 57/200\n",
            "469/469 [==============================] - 1s 2ms/step - loss: 0.0670 - accuracy: 0.6149 - val_loss: 0.0662 - val_accuracy: 0.6250\n",
            "Epoch 58/200\n",
            "469/469 [==============================] - 1s 3ms/step - loss: 0.0665 - accuracy: 0.6197 - val_loss: 0.0657 - val_accuracy: 0.6287\n",
            "Epoch 59/200\n",
            "469/469 [==============================] - 1s 2ms/step - loss: 0.0659 - accuracy: 0.6243 - val_loss: 0.0652 - val_accuracy: 0.6335\n",
            "Epoch 60/200\n",
            "469/469 [==============================] - 1s 3ms/step - loss: 0.0654 - accuracy: 0.6282 - val_loss: 0.0646 - val_accuracy: 0.6381\n",
            "Epoch 61/200\n",
            "469/469 [==============================] - 1s 3ms/step - loss: 0.0649 - accuracy: 0.6331 - val_loss: 0.0641 - val_accuracy: 0.6430\n",
            "Epoch 62/200\n",
            "469/469 [==============================] - 1s 2ms/step - loss: 0.0644 - accuracy: 0.6366 - val_loss: 0.0636 - val_accuracy: 0.6476\n",
            "Epoch 63/200\n",
            "469/469 [==============================] - 1s 3ms/step - loss: 0.0639 - accuracy: 0.6403 - val_loss: 0.0631 - val_accuracy: 0.6520\n",
            "Epoch 64/200\n",
            "469/469 [==============================] - 1s 3ms/step - loss: 0.0634 - accuracy: 0.6446 - val_loss: 0.0625 - val_accuracy: 0.6567\n",
            "Epoch 65/200\n",
            "469/469 [==============================] - 1s 3ms/step - loss: 0.0629 - accuracy: 0.6485 - val_loss: 0.0620 - val_accuracy: 0.6606\n",
            "Epoch 66/200\n",
            "469/469 [==============================] - 1s 3ms/step - loss: 0.0624 - accuracy: 0.6526 - val_loss: 0.0615 - val_accuracy: 0.6645\n",
            "Epoch 67/200\n",
            "469/469 [==============================] - 1s 3ms/step - loss: 0.0619 - accuracy: 0.6563 - val_loss: 0.0610 - val_accuracy: 0.6686\n",
            "Epoch 68/200\n",
            "469/469 [==============================] - 1s 3ms/step - loss: 0.0614 - accuracy: 0.6601 - val_loss: 0.0605 - val_accuracy: 0.6727\n",
            "Epoch 69/200\n",
            "469/469 [==============================] - 1s 2ms/step - loss: 0.0609 - accuracy: 0.6644 - val_loss: 0.0600 - val_accuracy: 0.6768\n",
            "Epoch 70/200\n",
            "469/469 [==============================] - 1s 3ms/step - loss: 0.0604 - accuracy: 0.6673 - val_loss: 0.0595 - val_accuracy: 0.6804\n",
            "Epoch 71/200\n",
            "469/469 [==============================] - 1s 3ms/step - loss: 0.0599 - accuracy: 0.6715 - val_loss: 0.0590 - val_accuracy: 0.6843\n",
            "Epoch 72/200\n",
            "469/469 [==============================] - 1s 2ms/step - loss: 0.0594 - accuracy: 0.6754 - val_loss: 0.0585 - val_accuracy: 0.6876\n",
            "Epoch 73/200\n",
            "469/469 [==============================] - 1s 3ms/step - loss: 0.0589 - accuracy: 0.6787 - val_loss: 0.0581 - val_accuracy: 0.6922\n",
            "Epoch 74/200\n",
            "469/469 [==============================] - 1s 2ms/step - loss: 0.0585 - accuracy: 0.6827 - val_loss: 0.0576 - val_accuracy: 0.6965\n",
            "Epoch 75/200\n",
            "469/469 [==============================] - 1s 2ms/step - loss: 0.0580 - accuracy: 0.6851 - val_loss: 0.0571 - val_accuracy: 0.6986\n",
            "Epoch 76/200\n",
            "469/469 [==============================] - 1s 3ms/step - loss: 0.0575 - accuracy: 0.6884 - val_loss: 0.0566 - val_accuracy: 0.7009\n",
            "Epoch 77/200\n",
            "469/469 [==============================] - 1s 2ms/step - loss: 0.0571 - accuracy: 0.6921 - val_loss: 0.0562 - val_accuracy: 0.7047\n",
            "Epoch 78/200\n",
            "469/469 [==============================] - 1s 3ms/step - loss: 0.0566 - accuracy: 0.6950 - val_loss: 0.0557 - val_accuracy: 0.7078\n",
            "Epoch 79/200\n",
            "469/469 [==============================] - 1s 2ms/step - loss: 0.0562 - accuracy: 0.6981 - val_loss: 0.0552 - val_accuracy: 0.7114\n",
            "Epoch 80/200\n",
            "469/469 [==============================] - 1s 2ms/step - loss: 0.0557 - accuracy: 0.7018 - val_loss: 0.0548 - val_accuracy: 0.7148\n",
            "Epoch 81/200\n",
            "469/469 [==============================] - 1s 3ms/step - loss: 0.0553 - accuracy: 0.7040 - val_loss: 0.0543 - val_accuracy: 0.7189\n",
            "Epoch 82/200\n",
            "469/469 [==============================] - 1s 3ms/step - loss: 0.0548 - accuracy: 0.7077 - val_loss: 0.0539 - val_accuracy: 0.7222\n",
            "Epoch 83/200\n",
            "469/469 [==============================] - 1s 3ms/step - loss: 0.0544 - accuracy: 0.7109 - val_loss: 0.0534 - val_accuracy: 0.7245\n",
            "Epoch 84/200\n",
            "469/469 [==============================] - 1s 3ms/step - loss: 0.0540 - accuracy: 0.7133 - val_loss: 0.0530 - val_accuracy: 0.7282\n",
            "Epoch 85/200\n",
            "469/469 [==============================] - 1s 2ms/step - loss: 0.0535 - accuracy: 0.7164 - val_loss: 0.0526 - val_accuracy: 0.7303\n",
            "Epoch 86/200\n",
            "469/469 [==============================] - 1s 2ms/step - loss: 0.0531 - accuracy: 0.7193 - val_loss: 0.0522 - val_accuracy: 0.7330\n",
            "Epoch 87/200\n",
            "469/469 [==============================] - 1s 3ms/step - loss: 0.0527 - accuracy: 0.7220 - val_loss: 0.0517 - val_accuracy: 0.7357\n",
            "Epoch 88/200\n",
            "469/469 [==============================] - 1s 3ms/step - loss: 0.0523 - accuracy: 0.7242 - val_loss: 0.0513 - val_accuracy: 0.7381\n",
            "Epoch 89/200\n",
            "469/469 [==============================] - 1s 2ms/step - loss: 0.0519 - accuracy: 0.7267 - val_loss: 0.0509 - val_accuracy: 0.7408\n",
            "Epoch 90/200\n",
            "469/469 [==============================] - 1s 2ms/step - loss: 0.0515 - accuracy: 0.7294 - val_loss: 0.0505 - val_accuracy: 0.7440\n",
            "Epoch 91/200\n",
            "469/469 [==============================] - 1s 2ms/step - loss: 0.0511 - accuracy: 0.7326 - val_loss: 0.0501 - val_accuracy: 0.7453\n",
            "Epoch 92/200\n",
            "469/469 [==============================] - 1s 3ms/step - loss: 0.0507 - accuracy: 0.7348 - val_loss: 0.0497 - val_accuracy: 0.7482\n",
            "Epoch 93/200\n",
            "469/469 [==============================] - 1s 3ms/step - loss: 0.0503 - accuracy: 0.7371 - val_loss: 0.0493 - val_accuracy: 0.7501\n",
            "Epoch 94/200\n",
            "469/469 [==============================] - 1s 2ms/step - loss: 0.0499 - accuracy: 0.7395 - val_loss: 0.0489 - val_accuracy: 0.7515\n",
            "Epoch 95/200\n",
            "469/469 [==============================] - 1s 3ms/step - loss: 0.0495 - accuracy: 0.7413 - val_loss: 0.0485 - val_accuracy: 0.7523\n",
            "Epoch 96/200\n",
            "469/469 [==============================] - 1s 2ms/step - loss: 0.0492 - accuracy: 0.7431 - val_loss: 0.0482 - val_accuracy: 0.7548\n",
            "Epoch 97/200\n",
            "469/469 [==============================] - 1s 3ms/step - loss: 0.0488 - accuracy: 0.7450 - val_loss: 0.0478 - val_accuracy: 0.7562\n",
            "Epoch 98/200\n",
            "469/469 [==============================] - 1s 2ms/step - loss: 0.0484 - accuracy: 0.7471 - val_loss: 0.0474 - val_accuracy: 0.7575\n",
            "Epoch 99/200\n",
            "469/469 [==============================] - 1s 2ms/step - loss: 0.0481 - accuracy: 0.7491 - val_loss: 0.0471 - val_accuracy: 0.7586\n",
            "Epoch 100/200\n",
            "469/469 [==============================] - 1s 2ms/step - loss: 0.0477 - accuracy: 0.7506 - val_loss: 0.0467 - val_accuracy: 0.7607\n",
            "Epoch 101/200\n",
            "469/469 [==============================] - 1s 3ms/step - loss: 0.0474 - accuracy: 0.7520 - val_loss: 0.0464 - val_accuracy: 0.7626\n",
            "Epoch 102/200\n",
            "469/469 [==============================] - 1s 2ms/step - loss: 0.0470 - accuracy: 0.7542 - val_loss: 0.0460 - val_accuracy: 0.7642\n",
            "Epoch 103/200\n",
            "469/469 [==============================] - 1s 3ms/step - loss: 0.0467 - accuracy: 0.7554 - val_loss: 0.0457 - val_accuracy: 0.7656\n",
            "Epoch 104/200\n",
            "469/469 [==============================] - 1s 3ms/step - loss: 0.0464 - accuracy: 0.7571 - val_loss: 0.0453 - val_accuracy: 0.7665\n",
            "Epoch 105/200\n",
            "469/469 [==============================] - 1s 2ms/step - loss: 0.0460 - accuracy: 0.7582 - val_loss: 0.0450 - val_accuracy: 0.7681\n",
            "Epoch 106/200\n",
            "469/469 [==============================] - 1s 2ms/step - loss: 0.0457 - accuracy: 0.7600 - val_loss: 0.0447 - val_accuracy: 0.7692\n",
            "Epoch 107/200\n",
            "469/469 [==============================] - 1s 3ms/step - loss: 0.0454 - accuracy: 0.7608 - val_loss: 0.0443 - val_accuracy: 0.7703\n",
            "Epoch 108/200\n",
            "469/469 [==============================] - 1s 2ms/step - loss: 0.0451 - accuracy: 0.7623 - val_loss: 0.0440 - val_accuracy: 0.7715\n",
            "Epoch 109/200\n",
            "469/469 [==============================] - 1s 2ms/step - loss: 0.0447 - accuracy: 0.7634 - val_loss: 0.0437 - val_accuracy: 0.7730\n",
            "Epoch 110/200\n",
            "469/469 [==============================] - 1s 2ms/step - loss: 0.0444 - accuracy: 0.7649 - val_loss: 0.0434 - val_accuracy: 0.7746\n",
            "Epoch 111/200\n",
            "469/469 [==============================] - 1s 2ms/step - loss: 0.0441 - accuracy: 0.7659 - val_loss: 0.0431 - val_accuracy: 0.7762\n",
            "Epoch 112/200\n",
            "469/469 [==============================] - 1s 2ms/step - loss: 0.0438 - accuracy: 0.7670 - val_loss: 0.0428 - val_accuracy: 0.7770\n",
            "Epoch 113/200\n",
            "469/469 [==============================] - 1s 3ms/step - loss: 0.0435 - accuracy: 0.7684 - val_loss: 0.0425 - val_accuracy: 0.7781\n",
            "Epoch 114/200\n",
            "469/469 [==============================] - 1s 3ms/step - loss: 0.0432 - accuracy: 0.7696 - val_loss: 0.0422 - val_accuracy: 0.7793\n",
            "Epoch 115/200\n",
            "469/469 [==============================] - 1s 3ms/step - loss: 0.0429 - accuracy: 0.7704 - val_loss: 0.0419 - val_accuracy: 0.7798\n",
            "Epoch 116/200\n",
            "469/469 [==============================] - 1s 3ms/step - loss: 0.0427 - accuracy: 0.7718 - val_loss: 0.0416 - val_accuracy: 0.7812\n",
            "Epoch 117/200\n",
            "469/469 [==============================] - 1s 3ms/step - loss: 0.0424 - accuracy: 0.7732 - val_loss: 0.0413 - val_accuracy: 0.7827\n",
            "Epoch 118/200\n",
            "469/469 [==============================] - 1s 3ms/step - loss: 0.0421 - accuracy: 0.7745 - val_loss: 0.0411 - val_accuracy: 0.7845\n",
            "Epoch 119/200\n",
            "469/469 [==============================] - 1s 3ms/step - loss: 0.0418 - accuracy: 0.7757 - val_loss: 0.0408 - val_accuracy: 0.7865\n",
            "Epoch 120/200\n",
            "469/469 [==============================] - 1s 3ms/step - loss: 0.0415 - accuracy: 0.7771 - val_loss: 0.0405 - val_accuracy: 0.7878\n",
            "Epoch 121/200\n",
            "469/469 [==============================] - 1s 3ms/step - loss: 0.0413 - accuracy: 0.7785 - val_loss: 0.0402 - val_accuracy: 0.7887\n",
            "Epoch 122/200\n",
            "469/469 [==============================] - 1s 3ms/step - loss: 0.0410 - accuracy: 0.7797 - val_loss: 0.0400 - val_accuracy: 0.7901\n",
            "Epoch 123/200\n",
            "469/469 [==============================] - 1s 3ms/step - loss: 0.0408 - accuracy: 0.7817 - val_loss: 0.0397 - val_accuracy: 0.7915\n",
            "Epoch 124/200\n",
            "469/469 [==============================] - 1s 3ms/step - loss: 0.0405 - accuracy: 0.7836 - val_loss: 0.0394 - val_accuracy: 0.7930\n",
            "Epoch 125/200\n",
            "469/469 [==============================] - 1s 3ms/step - loss: 0.0402 - accuracy: 0.7848 - val_loss: 0.0392 - val_accuracy: 0.7942\n",
            "Epoch 126/200\n",
            "469/469 [==============================] - 1s 2ms/step - loss: 0.0400 - accuracy: 0.7863 - val_loss: 0.0389 - val_accuracy: 0.7958\n",
            "Epoch 127/200\n",
            "469/469 [==============================] - 1s 2ms/step - loss: 0.0397 - accuracy: 0.7878 - val_loss: 0.0387 - val_accuracy: 0.7985\n",
            "Epoch 128/200\n",
            "469/469 [==============================] - 1s 3ms/step - loss: 0.0395 - accuracy: 0.7895 - val_loss: 0.0384 - val_accuracy: 0.8010\n",
            "Epoch 129/200\n",
            "469/469 [==============================] - 1s 3ms/step - loss: 0.0392 - accuracy: 0.7913 - val_loss: 0.0382 - val_accuracy: 0.8033\n",
            "Epoch 130/200\n",
            "469/469 [==============================] - 1s 3ms/step - loss: 0.0390 - accuracy: 0.7928 - val_loss: 0.0379 - val_accuracy: 0.8048\n",
            "Epoch 131/200\n",
            "469/469 [==============================] - 1s 3ms/step - loss: 0.0388 - accuracy: 0.7950 - val_loss: 0.0377 - val_accuracy: 0.8066\n",
            "Epoch 132/200\n",
            "469/469 [==============================] - 1s 2ms/step - loss: 0.0385 - accuracy: 0.7965 - val_loss: 0.0375 - val_accuracy: 0.8087\n",
            "Epoch 133/200\n",
            "469/469 [==============================] - 1s 3ms/step - loss: 0.0383 - accuracy: 0.7983 - val_loss: 0.0372 - val_accuracy: 0.8101\n",
            "Epoch 134/200\n",
            "469/469 [==============================] - 1s 3ms/step - loss: 0.0381 - accuracy: 0.7996 - val_loss: 0.0370 - val_accuracy: 0.8119\n",
            "Epoch 135/200\n",
            "469/469 [==============================] - 1s 3ms/step - loss: 0.0378 - accuracy: 0.8017 - val_loss: 0.0368 - val_accuracy: 0.8139\n",
            "Epoch 136/200\n",
            "469/469 [==============================] - 1s 3ms/step - loss: 0.0376 - accuracy: 0.8032 - val_loss: 0.0365 - val_accuracy: 0.8160\n",
            "Epoch 137/200\n",
            "469/469 [==============================] - 1s 3ms/step - loss: 0.0374 - accuracy: 0.8051 - val_loss: 0.0363 - val_accuracy: 0.8190\n",
            "Epoch 138/200\n",
            "469/469 [==============================] - 1s 3ms/step - loss: 0.0372 - accuracy: 0.8069 - val_loss: 0.0361 - val_accuracy: 0.8201\n",
            "Epoch 139/200\n",
            "469/469 [==============================] - 1s 3ms/step - loss: 0.0370 - accuracy: 0.8084 - val_loss: 0.0359 - val_accuracy: 0.8219\n",
            "Epoch 140/200\n",
            "469/469 [==============================] - 1s 3ms/step - loss: 0.0367 - accuracy: 0.8104 - val_loss: 0.0357 - val_accuracy: 0.8234\n",
            "Epoch 141/200\n",
            "469/469 [==============================] - 1s 3ms/step - loss: 0.0365 - accuracy: 0.8121 - val_loss: 0.0355 - val_accuracy: 0.8246\n",
            "Epoch 142/200\n",
            "469/469 [==============================] - 1s 3ms/step - loss: 0.0363 - accuracy: 0.8138 - val_loss: 0.0352 - val_accuracy: 0.8261\n",
            "Epoch 143/200\n",
            "469/469 [==============================] - 1s 3ms/step - loss: 0.0361 - accuracy: 0.8150 - val_loss: 0.0350 - val_accuracy: 0.8271\n",
            "Epoch 144/200\n",
            "469/469 [==============================] - 1s 3ms/step - loss: 0.0359 - accuracy: 0.8165 - val_loss: 0.0348 - val_accuracy: 0.8284\n",
            "Epoch 145/200\n",
            "469/469 [==============================] - 1s 3ms/step - loss: 0.0357 - accuracy: 0.8182 - val_loss: 0.0346 - val_accuracy: 0.8295\n",
            "Epoch 146/200\n",
            "469/469 [==============================] - 1s 3ms/step - loss: 0.0355 - accuracy: 0.8193 - val_loss: 0.0344 - val_accuracy: 0.8307\n",
            "Epoch 147/200\n",
            "469/469 [==============================] - 1s 3ms/step - loss: 0.0353 - accuracy: 0.8208 - val_loss: 0.0342 - val_accuracy: 0.8310\n",
            "Epoch 148/200\n",
            "469/469 [==============================] - 1s 3ms/step - loss: 0.0351 - accuracy: 0.8222 - val_loss: 0.0340 - val_accuracy: 0.8327\n",
            "Epoch 149/200\n",
            "469/469 [==============================] - 1s 3ms/step - loss: 0.0349 - accuracy: 0.8238 - val_loss: 0.0338 - val_accuracy: 0.8338\n",
            "Epoch 150/200\n",
            "469/469 [==============================] - 1s 3ms/step - loss: 0.0347 - accuracy: 0.8251 - val_loss: 0.0336 - val_accuracy: 0.8352\n",
            "Epoch 151/200\n",
            "469/469 [==============================] - 1s 3ms/step - loss: 0.0345 - accuracy: 0.8261 - val_loss: 0.0334 - val_accuracy: 0.8355\n",
            "Epoch 152/200\n",
            "469/469 [==============================] - 1s 3ms/step - loss: 0.0344 - accuracy: 0.8273 - val_loss: 0.0333 - val_accuracy: 0.8367\n",
            "Epoch 153/200\n",
            "469/469 [==============================] - 1s 3ms/step - loss: 0.0342 - accuracy: 0.8281 - val_loss: 0.0331 - val_accuracy: 0.8380\n",
            "Epoch 154/200\n",
            "469/469 [==============================] - 1s 3ms/step - loss: 0.0340 - accuracy: 0.8294 - val_loss: 0.0329 - val_accuracy: 0.8402\n",
            "Epoch 155/200\n",
            "469/469 [==============================] - 1s 3ms/step - loss: 0.0338 - accuracy: 0.8305 - val_loss: 0.0327 - val_accuracy: 0.8412\n",
            "Epoch 156/200\n",
            "469/469 [==============================] - 1s 3ms/step - loss: 0.0336 - accuracy: 0.8319 - val_loss: 0.0325 - val_accuracy: 0.8415\n",
            "Epoch 157/200\n",
            "469/469 [==============================] - 1s 3ms/step - loss: 0.0335 - accuracy: 0.8329 - val_loss: 0.0324 - val_accuracy: 0.8426\n",
            "Epoch 158/200\n",
            "469/469 [==============================] - 1s 3ms/step - loss: 0.0333 - accuracy: 0.8339 - val_loss: 0.0322 - val_accuracy: 0.8429\n",
            "Epoch 159/200\n",
            "469/469 [==============================] - 1s 3ms/step - loss: 0.0331 - accuracy: 0.8347 - val_loss: 0.0320 - val_accuracy: 0.8436\n",
            "Epoch 160/200\n",
            "469/469 [==============================] - 1s 3ms/step - loss: 0.0329 - accuracy: 0.8359 - val_loss: 0.0318 - val_accuracy: 0.8451\n",
            "Epoch 161/200\n",
            "469/469 [==============================] - 1s 3ms/step - loss: 0.0328 - accuracy: 0.8368 - val_loss: 0.0317 - val_accuracy: 0.8456\n",
            "Epoch 162/200\n",
            "469/469 [==============================] - 1s 3ms/step - loss: 0.0326 - accuracy: 0.8378 - val_loss: 0.0315 - val_accuracy: 0.8467\n",
            "Epoch 163/200\n",
            "469/469 [==============================] - 1s 3ms/step - loss: 0.0324 - accuracy: 0.8383 - val_loss: 0.0313 - val_accuracy: 0.8472\n",
            "Epoch 164/200\n",
            "469/469 [==============================] - 1s 3ms/step - loss: 0.0323 - accuracy: 0.8394 - val_loss: 0.0312 - val_accuracy: 0.8474\n",
            "Epoch 165/200\n",
            "469/469 [==============================] - 1s 3ms/step - loss: 0.0321 - accuracy: 0.8401 - val_loss: 0.0310 - val_accuracy: 0.8488\n",
            "Epoch 166/200\n",
            "469/469 [==============================] - 1s 3ms/step - loss: 0.0320 - accuracy: 0.8408 - val_loss: 0.0309 - val_accuracy: 0.8494\n",
            "Epoch 167/200\n",
            "469/469 [==============================] - 1s 3ms/step - loss: 0.0318 - accuracy: 0.8414 - val_loss: 0.0307 - val_accuracy: 0.8500\n",
            "Epoch 168/200\n",
            "469/469 [==============================] - 1s 3ms/step - loss: 0.0316 - accuracy: 0.8422 - val_loss: 0.0305 - val_accuracy: 0.8508\n",
            "Epoch 169/200\n",
            "469/469 [==============================] - 1s 3ms/step - loss: 0.0315 - accuracy: 0.8429 - val_loss: 0.0304 - val_accuracy: 0.8521\n",
            "Epoch 170/200\n",
            "469/469 [==============================] - 1s 3ms/step - loss: 0.0313 - accuracy: 0.8436 - val_loss: 0.0302 - val_accuracy: 0.8525\n",
            "Epoch 171/200\n",
            "469/469 [==============================] - 1s 3ms/step - loss: 0.0312 - accuracy: 0.8443 - val_loss: 0.0301 - val_accuracy: 0.8535\n",
            "Epoch 172/200\n",
            "469/469 [==============================] - 1s 3ms/step - loss: 0.0310 - accuracy: 0.8449 - val_loss: 0.0299 - val_accuracy: 0.8547\n",
            "Epoch 173/200\n",
            "469/469 [==============================] - 1s 3ms/step - loss: 0.0309 - accuracy: 0.8455 - val_loss: 0.0298 - val_accuracy: 0.8552\n",
            "Epoch 174/200\n",
            "469/469 [==============================] - 1s 3ms/step - loss: 0.0308 - accuracy: 0.8462 - val_loss: 0.0297 - val_accuracy: 0.8560\n",
            "Epoch 175/200\n",
            "469/469 [==============================] - 1s 3ms/step - loss: 0.0306 - accuracy: 0.8470 - val_loss: 0.0295 - val_accuracy: 0.8565\n",
            "Epoch 176/200\n",
            "469/469 [==============================] - 1s 3ms/step - loss: 0.0305 - accuracy: 0.8474 - val_loss: 0.0294 - val_accuracy: 0.8572\n",
            "Epoch 177/200\n",
            "469/469 [==============================] - 1s 3ms/step - loss: 0.0303 - accuracy: 0.8479 - val_loss: 0.0292 - val_accuracy: 0.8576\n",
            "Epoch 178/200\n",
            "469/469 [==============================] - 1s 3ms/step - loss: 0.0302 - accuracy: 0.8486 - val_loss: 0.0291 - val_accuracy: 0.8582\n",
            "Epoch 179/200\n",
            "469/469 [==============================] - 1s 3ms/step - loss: 0.0301 - accuracy: 0.8494 - val_loss: 0.0290 - val_accuracy: 0.8590\n",
            "Epoch 180/200\n",
            "469/469 [==============================] - 1s 3ms/step - loss: 0.0299 - accuracy: 0.8499 - val_loss: 0.0288 - val_accuracy: 0.8596\n",
            "Epoch 181/200\n",
            "469/469 [==============================] - 1s 3ms/step - loss: 0.0298 - accuracy: 0.8505 - val_loss: 0.0287 - val_accuracy: 0.8601\n",
            "Epoch 182/200\n",
            "469/469 [==============================] - 1s 3ms/step - loss: 0.0297 - accuracy: 0.8513 - val_loss: 0.0286 - val_accuracy: 0.8606\n",
            "Epoch 183/200\n",
            "469/469 [==============================] - 1s 3ms/step - loss: 0.0295 - accuracy: 0.8519 - val_loss: 0.0284 - val_accuracy: 0.8612\n",
            "Epoch 184/200\n",
            "469/469 [==============================] - 1s 3ms/step - loss: 0.0294 - accuracy: 0.8523 - val_loss: 0.0283 - val_accuracy: 0.8618\n",
            "Epoch 185/200\n",
            "469/469 [==============================] - 1s 2ms/step - loss: 0.0293 - accuracy: 0.8529 - val_loss: 0.0282 - val_accuracy: 0.8625\n",
            "Epoch 186/200\n",
            "469/469 [==============================] - 1s 3ms/step - loss: 0.0292 - accuracy: 0.8533 - val_loss: 0.0281 - val_accuracy: 0.8630\n",
            "Epoch 187/200\n",
            "469/469 [==============================] - 1s 3ms/step - loss: 0.0290 - accuracy: 0.8538 - val_loss: 0.0279 - val_accuracy: 0.8633\n",
            "Epoch 188/200\n",
            "469/469 [==============================] - 1s 3ms/step - loss: 0.0289 - accuracy: 0.8543 - val_loss: 0.0278 - val_accuracy: 0.8637\n",
            "Epoch 189/200\n",
            "469/469 [==============================] - 1s 3ms/step - loss: 0.0288 - accuracy: 0.8547 - val_loss: 0.0277 - val_accuracy: 0.8640\n",
            "Epoch 190/200\n",
            "469/469 [==============================] - 1s 3ms/step - loss: 0.0287 - accuracy: 0.8552 - val_loss: 0.0276 - val_accuracy: 0.8648\n",
            "Epoch 191/200\n",
            "469/469 [==============================] - 1s 3ms/step - loss: 0.0286 - accuracy: 0.8557 - val_loss: 0.0275 - val_accuracy: 0.8653\n",
            "Epoch 192/200\n",
            "469/469 [==============================] - 1s 3ms/step - loss: 0.0284 - accuracy: 0.8561 - val_loss: 0.0273 - val_accuracy: 0.8655\n",
            "Epoch 193/200\n",
            "469/469 [==============================] - 1s 3ms/step - loss: 0.0283 - accuracy: 0.8566 - val_loss: 0.0272 - val_accuracy: 0.8663\n",
            "Epoch 194/200\n",
            "469/469 [==============================] - 1s 3ms/step - loss: 0.0282 - accuracy: 0.8570 - val_loss: 0.0271 - val_accuracy: 0.8665\n",
            "Epoch 195/200\n",
            "469/469 [==============================] - 1s 3ms/step - loss: 0.0281 - accuracy: 0.8574 - val_loss: 0.0270 - val_accuracy: 0.8669\n",
            "Epoch 196/200\n",
            "469/469 [==============================] - 1s 3ms/step - loss: 0.0280 - accuracy: 0.8577 - val_loss: 0.0269 - val_accuracy: 0.8672\n",
            "Epoch 197/200\n",
            "469/469 [==============================] - 1s 3ms/step - loss: 0.0279 - accuracy: 0.8583 - val_loss: 0.0268 - val_accuracy: 0.8675\n",
            "Epoch 198/200\n",
            "469/469 [==============================] - 1s 2ms/step - loss: 0.0278 - accuracy: 0.8589 - val_loss: 0.0267 - val_accuracy: 0.8681\n",
            "Epoch 199/200\n",
            "469/469 [==============================] - 1s 3ms/step - loss: 0.0277 - accuracy: 0.8592 - val_loss: 0.0266 - val_accuracy: 0.8684\n",
            "Epoch 200/200\n",
            "469/469 [==============================] - 1s 3ms/step - loss: 0.0276 - accuracy: 0.8596 - val_loss: 0.0265 - val_accuracy: 0.8689\n"
          ],
          "name": "stdout"
        },
        {
          "output_type": "execute_result",
          "data": {
            "text/plain": [
              "<tensorflow.python.keras.callbacks.History at 0x7f01e04020b8>"
            ]
          },
          "metadata": {
            "tags": []
          },
          "execution_count": 23
        }
      ]
    },
    {
      "cell_type": "markdown",
      "metadata": {
        "id": "hzhKX6mHjjrV",
        "colab_type": "text"
      },
      "source": [
        "#### Performing Inference"
      ]
    },
    {
      "cell_type": "code",
      "metadata": {
        "id": "iobxsDEPkenJ",
        "colab_type": "code",
        "colab": {}
      },
      "source": [
        "valid_0 = X_valid[0].reshape(1, 784)"
      ],
      "execution_count": 0,
      "outputs": []
    },
    {
      "cell_type": "code",
      "metadata": {
        "id": "wUc2kS7DkieS",
        "colab_type": "code",
        "outputId": "636f29b3-f4ae-46c6-82b0-20d13ca7fec5",
        "colab": {
          "base_uri": "https://localhost:8080/",
          "height": 69
        }
      },
      "source": [
        "model.predict(valid_0)"
      ],
      "execution_count": 25,
      "outputs": [
        {
          "output_type": "execute_result",
          "data": {
            "text/plain": [
              "array([[3.7457894e-03, 1.3807167e-03, 1.5720883e-03, 5.4541784e-03,\n",
              "        4.0015448e-03, 5.8186613e-03, 5.3481519e-04, 9.4548440e-01,\n",
              "        1.8646236e-03, 3.0143155e-02]], dtype=float32)"
            ]
          },
          "metadata": {
            "tags": []
          },
          "execution_count": 25
        }
      ]
    },
    {
      "cell_type": "code",
      "metadata": {
        "id": "q0gXelFOrrtp",
        "colab_type": "code",
        "colab": {}
      },
      "source": [
        "import numpy as np"
      ],
      "execution_count": 0,
      "outputs": []
    },
    {
      "cell_type": "code",
      "metadata": {
        "id": "eAyaOgPdkldm",
        "colab_type": "code",
        "outputId": "c2351a42-f85a-4ac7-a064-eb6c9fbdef77",
        "colab": {
          "base_uri": "https://localhost:8080/",
          "height": 34
        }
      },
      "source": [
        "np.argmax(model.predict(valid_0), axis=-1)"
      ],
      "execution_count": 30,
      "outputs": [
        {
          "output_type": "execute_result",
          "data": {
            "text/plain": [
              "array([7])"
            ]
          },
          "metadata": {
            "tags": []
          },
          "execution_count": 30
        }
      ]
    },
    {
      "cell_type": "code",
      "metadata": {
        "id": "sWAx8Xs_kolW",
        "colab_type": "code",
        "colab": {}
      },
      "source": [
        ""
      ],
      "execution_count": 0,
      "outputs": []
    }
  ]
}