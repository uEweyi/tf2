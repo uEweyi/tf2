{
 "cells": [
  {
   "cell_type": "markdown",
   "metadata": {},
   "source": [
    "# Deep Neural Net in TensorFlow"
   ]
  },
  {
   "cell_type": "markdown",
   "metadata": {},
   "source": [
    "For classifying MNIST digits"
   ]
  },
  {
   "cell_type": "markdown",
   "metadata": {},
   "source": [
    "#### Load dependencies"
   ]
  },
  {
   "cell_type": "code",
   "execution_count": 1,
   "metadata": {},
   "outputs": [
    {
     "name": "stderr",
     "output_type": "stream",
     "text": [
      "/opt/conda/lib/python3.6/site-packages/h5py/__init__.py:36: FutureWarning: Conversion of the second argument of issubdtype from `float` to `np.floating` is deprecated. In future, it will be treated as `np.float64 == np.dtype(float).type`.\n",
      "  from ._conv import register_converters as _register_converters\n"
     ]
    }
   ],
   "source": [
    "import tensorflow as tf\n",
    "from tensorflow import keras"
   ]
  },
  {
   "cell_type": "markdown",
   "metadata": {},
   "source": [
    "#### Load data"
   ]
  },
  {
   "cell_type": "code",
   "execution_count": 2,
   "metadata": {},
   "outputs": [],
   "source": [
    "(X_train, y_train), (X_valid, y_valid) = keras.datasets.mnist.load_data()"
   ]
  },
  {
   "cell_type": "markdown",
   "metadata": {},
   "source": [
    "#### Preprocess data"
   ]
  },
  {
   "cell_type": "code",
   "execution_count": 3,
   "metadata": {},
   "outputs": [],
   "source": [
    "X_train = X_train.reshape(60000, 784).astype('float32')\n",
    "X_valid = X_valid.reshape(10000, 784).astype('float32')"
   ]
  },
  {
   "cell_type": "code",
   "execution_count": 4,
   "metadata": {},
   "outputs": [],
   "source": [
    "X_train /= 255\n",
    "X_valid /= 255"
   ]
  },
  {
   "cell_type": "code",
   "execution_count": 5,
   "metadata": {},
   "outputs": [],
   "source": [
    "n_classes = 10\n",
    "y_train = keras.utils.to_categorical(y_train, n_classes)\n",
    "y_valid = keras.utils.to_categorical(y_valid, n_classes)"
   ]
  },
  {
   "cell_type": "markdown",
   "metadata": {},
   "source": [
    "#### Design neural network architecture"
   ]
  },
  {
   "cell_type": "code",
   "execution_count": 6,
   "metadata": {},
   "outputs": [],
   "source": [
    "model = keras.models.Sequential([\n",
    "    \n",
    "    keras.layers.Dense(64, activation='relu', input_shape=(784,)),\n",
    "    keras.layers.BatchNormalization(),\n",
    "    \n",
    "    keras.layers.Dense(64, activation='relu'),\n",
    "    keras.layers.BatchNormalization(),\n",
    "    \n",
    "    keras.layers.Dense(64, activation='relu'),\n",
    "    keras.layers.BatchNormalization(),\n",
    "    keras.layers.Dropout(0.2),\n",
    "    \n",
    "    keras.layers.Dense(10, activation='softmax'),\n",
    "])"
   ]
  },
  {
   "cell_type": "code",
   "execution_count": 7,
   "metadata": {},
   "outputs": [
    {
     "name": "stdout",
     "output_type": "stream",
     "text": [
      "Model: \"sequential\"\n",
      "_________________________________________________________________\n",
      "Layer (type)                 Output Shape              Param #   \n",
      "=================================================================\n",
      "dense (Dense)                (None, 64)                50240     \n",
      "_________________________________________________________________\n",
      "batch_normalization_v2 (Batc (None, 64)                256       \n",
      "_________________________________________________________________\n",
      "dense_1 (Dense)              (None, 64)                4160      \n",
      "_________________________________________________________________\n",
      "batch_normalization_v2_1 (Ba (None, 64)                256       \n",
      "_________________________________________________________________\n",
      "dense_2 (Dense)              (None, 64)                4160      \n",
      "_________________________________________________________________\n",
      "batch_normalization_v2_2 (Ba (None, 64)                256       \n",
      "_________________________________________________________________\n",
      "dropout (Dropout)            (None, 64)                0         \n",
      "_________________________________________________________________\n",
      "dense_3 (Dense)              (None, 10)                650       \n",
      "=================================================================\n",
      "Total params: 59,978\n",
      "Trainable params: 59,594\n",
      "Non-trainable params: 384\n",
      "_________________________________________________________________\n"
     ]
    }
   ],
   "source": [
    "model.summary()"
   ]
  },
  {
   "cell_type": "markdown",
   "metadata": {},
   "source": [
    "#### Configure model"
   ]
  },
  {
   "cell_type": "code",
   "execution_count": 8,
   "metadata": {},
   "outputs": [],
   "source": [
    "model.compile(loss='categorical_crossentropy', optimizer='adam', metrics=['accuracy'])"
   ]
  },
  {
   "cell_type": "markdown",
   "metadata": {},
   "source": [
    "#### Train!"
   ]
  },
  {
   "cell_type": "code",
   "execution_count": 9,
   "metadata": {},
   "outputs": [
    {
     "name": "stdout",
     "output_type": "stream",
     "text": [
      "Train on 60000 samples, validate on 10000 samples\n",
      "Epoch 1/20\n",
      "60000/60000 [==============================] - 2s 38us/sample - loss: 0.3802 - accuracy: 0.8860 - val_loss: 0.1620 - val_accuracy: 0.9506\n",
      "Epoch 2/20\n",
      "60000/60000 [==============================] - 2s 26us/sample - loss: 0.1513 - accuracy: 0.9554 - val_loss: 0.1152 - val_accuracy: 0.9648\n",
      "Epoch 3/20\n",
      "60000/60000 [==============================] - 2s 38us/sample - loss: 0.1134 - accuracy: 0.9651 - val_loss: 0.1013 - val_accuracy: 0.9682\n",
      "Epoch 4/20\n",
      "60000/60000 [==============================] - 2s 30us/sample - loss: 0.0883 - accuracy: 0.9724 - val_loss: 0.1003 - val_accuracy: 0.9705\n",
      "Epoch 5/20\n",
      "60000/60000 [==============================] - 1s 22us/sample - loss: 0.0766 - accuracy: 0.9756 - val_loss: 0.0894 - val_accuracy: 0.9740\n",
      "Epoch 6/20\n",
      "60000/60000 [==============================] - 2s 30us/sample - loss: 0.0674 - accuracy: 0.9785 - val_loss: 0.0915 - val_accuracy: 0.9730\n",
      "Epoch 7/20\n",
      "60000/60000 [==============================] - 1s 25us/sample - loss: 0.0579 - accuracy: 0.9819 - val_loss: 0.0900 - val_accuracy: 0.9730\n",
      "Epoch 8/20\n",
      "60000/60000 [==============================] - 2s 33us/sample - loss: 0.0510 - accuracy: 0.9834 - val_loss: 0.0928 - val_accuracy: 0.9743\n",
      "Epoch 9/20\n",
      "60000/60000 [==============================] - 2s 30us/sample - loss: 0.0445 - accuracy: 0.9851 - val_loss: 0.0920 - val_accuracy: 0.9746\n",
      "Epoch 10/20\n",
      "60000/60000 [==============================] - 2s 27us/sample - loss: 0.0422 - accuracy: 0.9861 - val_loss: 0.0903 - val_accuracy: 0.9741\n",
      "Epoch 11/20\n",
      "60000/60000 [==============================] - 2s 35us/sample - loss: 0.0387 - accuracy: 0.9874 - val_loss: 0.0962 - val_accuracy: 0.9744\n",
      "Epoch 12/20\n",
      "60000/60000 [==============================] - 2s 31us/sample - loss: 0.0360 - accuracy: 0.9884 - val_loss: 0.0943 - val_accuracy: 0.9748\n",
      "Epoch 13/20\n",
      "60000/60000 [==============================] - 2s 31us/sample - loss: 0.0357 - accuracy: 0.9877 - val_loss: 0.0923 - val_accuracy: 0.9765\n",
      "Epoch 14/20\n",
      "60000/60000 [==============================] - 2s 33us/sample - loss: 0.0296 - accuracy: 0.9902 - val_loss: 0.0939 - val_accuracy: 0.9768\n",
      "Epoch 15/20\n",
      "60000/60000 [==============================] - 2s 26us/sample - loss: 0.0279 - accuracy: 0.9907 - val_loss: 0.0826 - val_accuracy: 0.9775\n",
      "Epoch 16/20\n",
      "60000/60000 [==============================] - 1s 20us/sample - loss: 0.0279 - accuracy: 0.9906 - val_loss: 0.0885 - val_accuracy: 0.9758\n",
      "Epoch 17/20\n",
      "60000/60000 [==============================] - 2s 25us/sample - loss: 0.0278 - accuracy: 0.9906 - val_loss: 0.0972 - val_accuracy: 0.9748\n",
      "Epoch 18/20\n",
      "60000/60000 [==============================] - 2s 31us/sample - loss: 0.0252 - accuracy: 0.9914 - val_loss: 0.0923 - val_accuracy: 0.9774\n",
      "Epoch 19/20\n",
      "60000/60000 [==============================] - 1s 24us/sample - loss: 0.0224 - accuracy: 0.9924 - val_loss: 0.0890 - val_accuracy: 0.9770\n",
      "Epoch 20/20\n",
      "60000/60000 [==============================] - 1s 23us/sample - loss: 0.0226 - accuracy: 0.9926 - val_loss: 0.0946 - val_accuracy: 0.9751\n"
     ]
    },
    {
     "data": {
      "text/plain": [
       "<tensorflow.python.keras.callbacks.History at 0x7f93cbc8b3c8>"
      ]
     },
     "execution_count": 9,
     "metadata": {},
     "output_type": "execute_result"
    }
   ],
   "source": [
    "model.fit(X_train, y_train, batch_size=128, epochs=20, verbose=1, validation_data=(X_valid, y_valid))"
   ]
  },
  {
   "cell_type": "code",
   "execution_count": null,
   "metadata": {},
   "outputs": [],
   "source": []
  }
 ],
 "metadata": {
  "kernelspec": {
   "display_name": "Python 3",
   "language": "python",
   "name": "python3"
  },
  "language_info": {
   "codemirror_mode": {
    "name": "ipython",
    "version": 3
   },
   "file_extension": ".py",
   "mimetype": "text/x-python",
   "name": "python",
   "nbconvert_exporter": "python",
   "pygments_lexer": "ipython3",
   "version": "3.6.5"
  }
 },
 "nbformat": 4,
 "nbformat_minor": 2
}
