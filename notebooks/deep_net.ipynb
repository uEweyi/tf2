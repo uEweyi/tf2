{
 "cells": [
  {
   "cell_type": "markdown",
   "metadata": {},
   "source": [
    "# Deep Neural Net in TensorFlow"
   ]
  },
  {
   "cell_type": "markdown",
   "metadata": {},
   "source": [
    "For classifying MNIST digits"
   ]
  },
  {
   "cell_type": "markdown",
   "metadata": {},
   "source": [
    "#### Load dependencies"
   ]
  },
  {
   "cell_type": "code",
   "execution_count": 1,
   "metadata": {},
   "outputs": [
    {
     "name": "stderr",
     "output_type": "stream",
     "text": [
      "/opt/conda/lib/python3.6/site-packages/h5py/__init__.py:36: FutureWarning: Conversion of the second argument of issubdtype from `float` to `np.floating` is deprecated. In future, it will be treated as `np.float64 == np.dtype(float).type`.\n",
      "  from ._conv import register_converters as _register_converters\n"
     ]
    }
   ],
   "source": [
    "import tensorflow as tf\n",
    "from tensorflow import keras"
   ]
  },
  {
   "cell_type": "markdown",
   "metadata": {},
   "source": [
    "#### Load data"
   ]
  },
  {
   "cell_type": "code",
   "execution_count": 2,
   "metadata": {},
   "outputs": [],
   "source": [
    "(X_train, y_train), (X_valid, y_valid) = keras.datasets.mnist.load_data()"
   ]
  },
  {
   "cell_type": "markdown",
   "metadata": {},
   "source": [
    "#### Preprocess data"
   ]
  },
  {
   "cell_type": "code",
   "execution_count": 3,
   "metadata": {},
   "outputs": [],
   "source": [
    "X_train = X_train.reshape(60000, 784).astype('float32')\n",
    "X_valid = X_valid.reshape(10000, 784).astype('float32')"
   ]
  },
  {
   "cell_type": "code",
   "execution_count": 4,
   "metadata": {},
   "outputs": [],
   "source": [
    "X_train /= 255\n",
    "X_valid /= 255"
   ]
  },
  {
   "cell_type": "code",
   "execution_count": 5,
   "metadata": {},
   "outputs": [],
   "source": [
    "n_classes = 10\n",
    "y_train = keras.utils.to_categorical(y_train, n_classes)\n",
    "y_valid = keras.utils.to_categorical(y_valid, n_classes)"
   ]
  },
  {
   "cell_type": "markdown",
   "metadata": {},
   "source": [
    "#### Design neural network architecture"
   ]
  },
  {
   "cell_type": "code",
   "execution_count": 6,
   "metadata": {},
   "outputs": [],
   "source": [
    "model = keras.models.Sequential([\n",
    "    \n",
    "    keras.layers.Dense(64, activation='relu', input_shape=(784,)),\n",
    "    keras.layers.BatchNormalization(),\n",
    "    \n",
    "    keras.layers.Dense(64, activation='relu'),\n",
    "    keras.layers.BatchNormalization(),\n",
    "    \n",
    "    keras.layers.Dense(64, activation='relu'),\n",
    "    keras.layers.BatchNormalization(),\n",
    "    keras.layers.Dropout(0.2),\n",
    "    \n",
    "    keras.layers.Dense(10, activation='softmax'),\n",
    "])"
   ]
  },
  {
   "cell_type": "code",
   "execution_count": 7,
   "metadata": {},
   "outputs": [
    {
     "name": "stdout",
     "output_type": "stream",
     "text": [
      "Model: \"sequential\"\n",
      "_________________________________________________________________\n",
      "Layer (type)                 Output Shape              Param #   \n",
      "=================================================================\n",
      "dense (Dense)                (None, 64)                50240     \n",
      "_________________________________________________________________\n",
      "batch_normalization_v2 (Batc (None, 64)                256       \n",
      "_________________________________________________________________\n",
      "dense_1 (Dense)              (None, 64)                4160      \n",
      "_________________________________________________________________\n",
      "batch_normalization_v2_1 (Ba (None, 64)                256       \n",
      "_________________________________________________________________\n",
      "dense_2 (Dense)              (None, 64)                4160      \n",
      "_________________________________________________________________\n",
      "batch_normalization_v2_2 (Ba (None, 64)                256       \n",
      "_________________________________________________________________\n",
      "dropout (Dropout)            (None, 64)                0         \n",
      "_________________________________________________________________\n",
      "dense_3 (Dense)              (None, 10)                650       \n",
      "=================================================================\n",
      "Total params: 59,978\n",
      "Trainable params: 59,594\n",
      "Non-trainable params: 384\n",
      "_________________________________________________________________\n"
     ]
    }
   ],
   "source": [
    "model.summary()"
   ]
  },
  {
   "cell_type": "markdown",
   "metadata": {},
   "source": [
    "#### Configure model"
   ]
  },
  {
   "cell_type": "code",
   "execution_count": 8,
   "metadata": {},
   "outputs": [],
   "source": [
    "model.compile(loss='categorical_crossentropy', optimizer='adam', metrics=['accuracy'])"
   ]
  },
  {
   "cell_type": "markdown",
   "metadata": {},
   "source": [
    "#### Train!"
   ]
  },
  {
   "cell_type": "code",
   "execution_count": 9,
   "metadata": {},
   "outputs": [
    {
     "name": "stdout",
     "output_type": "stream",
     "text": [
      "Train on 60000 samples, validate on 10000 samples\n",
      "Epoch 1/20\n",
      "60000/60000 [==============================] - 2s 42us/sample - loss: 0.3859 - accuracy: 0.8846 - val_loss: 0.1654 - val_accuracy: 0.9479\n",
      "Epoch 2/20\n",
      "60000/60000 [==============================] - 1s 18us/sample - loss: 0.1531 - accuracy: 0.9546 - val_loss: 0.1165 - val_accuracy: 0.9648\n",
      "Epoch 3/20\n",
      "60000/60000 [==============================] - 1s 22us/sample - loss: 0.1134 - accuracy: 0.9654 - val_loss: 0.1042 - val_accuracy: 0.9669\n",
      "Epoch 4/20\n",
      "60000/60000 [==============================] - 1s 23us/sample - loss: 0.0927 - accuracy: 0.9719 - val_loss: 0.0904 - val_accuracy: 0.9725\n",
      "Epoch 5/20\n",
      "60000/60000 [==============================] - 1s 24us/sample - loss: 0.0752 - accuracy: 0.9763 - val_loss: 0.0945 - val_accuracy: 0.9711\n",
      "Epoch 6/20\n",
      "60000/60000 [==============================] - 1s 22us/sample - loss: 0.0662 - accuracy: 0.9791 - val_loss: 0.0830 - val_accuracy: 0.9737\n",
      "Epoch 7/20\n",
      "60000/60000 [==============================] - 1s 21us/sample - loss: 0.0604 - accuracy: 0.9806 - val_loss: 0.0832 - val_accuracy: 0.9736\n",
      "Epoch 8/20\n",
      "60000/60000 [==============================] - 1s 21us/sample - loss: 0.0518 - accuracy: 0.9832 - val_loss: 0.0822 - val_accuracy: 0.9744\n",
      "Epoch 9/20\n",
      "60000/60000 [==============================] - 1s 22us/sample - loss: 0.0492 - accuracy: 0.9841 - val_loss: 0.0859 - val_accuracy: 0.9754\n",
      "Epoch 10/20\n",
      "60000/60000 [==============================] - 1s 22us/sample - loss: 0.0440 - accuracy: 0.9855 - val_loss: 0.0860 - val_accuracy: 0.9741\n",
      "Epoch 11/20\n",
      "60000/60000 [==============================] - 1s 19us/sample - loss: 0.0369 - accuracy: 0.9882 - val_loss: 0.0876 - val_accuracy: 0.9734\n",
      "Epoch 12/20\n",
      "60000/60000 [==============================] - 1s 22us/sample - loss: 0.0359 - accuracy: 0.9882 - val_loss: 0.0913 - val_accuracy: 0.9738\n",
      "Epoch 13/20\n",
      "60000/60000 [==============================] - 1s 21us/sample - loss: 0.0325 - accuracy: 0.9892 - val_loss: 0.0954 - val_accuracy: 0.9741\n",
      "Epoch 14/20\n",
      "60000/60000 [==============================] - 1s 24us/sample - loss: 0.0310 - accuracy: 0.9897 - val_loss: 0.0810 - val_accuracy: 0.9768\n",
      "Epoch 15/20\n",
      "60000/60000 [==============================] - 1s 22us/sample - loss: 0.0282 - accuracy: 0.9907 - val_loss: 0.0902 - val_accuracy: 0.9763\n",
      "Epoch 16/20\n",
      "60000/60000 [==============================] - 1s 22us/sample - loss: 0.0277 - accuracy: 0.9908 - val_loss: 0.1044 - val_accuracy: 0.9740\n",
      "Epoch 17/20\n",
      "60000/60000 [==============================] - 1s 20us/sample - loss: 0.0255 - accuracy: 0.9915 - val_loss: 0.0947 - val_accuracy: 0.9754\n",
      "Epoch 18/20\n",
      "60000/60000 [==============================] - 1s 20us/sample - loss: 0.0239 - accuracy: 0.9919 - val_loss: 0.0917 - val_accuracy: 0.9749\n",
      "Epoch 19/20\n",
      "60000/60000 [==============================] - 1s 22us/sample - loss: 0.0248 - accuracy: 0.9917 - val_loss: 0.0980 - val_accuracy: 0.9754\n",
      "Epoch 20/20\n",
      "60000/60000 [==============================] - 1s 23us/sample - loss: 0.0235 - accuracy: 0.9921 - val_loss: 0.0873 - val_accuracy: 0.9776\n"
     ]
    },
    {
     "data": {
      "text/plain": [
       "<tensorflow.python.keras.callbacks.History at 0x7f4c76bfcba8>"
      ]
     },
     "execution_count": 9,
     "metadata": {},
     "output_type": "execute_result"
    }
   ],
   "source": [
    "model.fit(X_train, y_train, batch_size=128, epochs=20, verbose=1, validation_data=(X_valid, y_valid))"
   ]
  },
  {
   "cell_type": "code",
   "execution_count": null,
   "metadata": {},
   "outputs": [],
   "source": []
  }
 ],
 "metadata": {
  "kernelspec": {
   "display_name": "Python 3",
   "language": "python",
   "name": "python3"
  },
  "language_info": {
   "codemirror_mode": {
    "name": "ipython",
    "version": 3
   },
   "file_extension": ".py",
   "mimetype": "text/x-python",
   "name": "python",
   "nbconvert_exporter": "python",
   "pygments_lexer": "ipython3",
   "version": "3.6.5"
  }
 },
 "nbformat": 4,
 "nbformat_minor": 2
}
